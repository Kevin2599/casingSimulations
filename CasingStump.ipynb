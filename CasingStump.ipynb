{
 "cells": [
  {
   "cell_type": "code",
   "execution_count": 1,
   "metadata": {
    "collapsed": false
   },
   "outputs": [],
   "source": [
    "from CasingSimulations import * \n",
    "%matplotlib inline"
   ]
  },
  {
   "cell_type": "code",
   "execution_count": 2,
   "metadata": {
    "collapsed": true
   },
   "outputs": [],
   "source": [
    "directory = 'CasingStump'\n",
    "cpfile = \"CasingProperties.json\"\n",
    "resultsfile = \"CasingStump.hdf5\"\n",
    "rerun = False"
   ]
  },
  {
   "cell_type": "markdown",
   "metadata": {},
   "source": [
    "# Model Parameters"
   ]
  },
  {
   "cell_type": "code",
   "execution_count": 3,
   "metadata": {
    "collapsed": false
   },
   "outputs": [],
   "source": [
    "cp_file = '{directory}/{cpfile}'.format(directory=directory, cpfile=cpfile)\n",
    "\n",
    "if rerun is True:\n",
    "    cp = CasingProperties(muModels=[50.], casing_l=100., casing_top=-900.)\n",
    "else:\n",
    "    with open(cp_file, 'r') as outfile:\n",
    "        cp = CasingProperties.deserialize(json.load(cp_file))"
   ]
  },
  {
   "cell_type": "code",
   "execution_count": 4,
   "metadata": {
    "collapsed": true
   },
   "outputs": [],
   "source": [
    "# sigmaair = 1e-8  # air\n",
    "# sigmaback = 1e-2  # background\n",
    "\n",
    "# sigmacasing = 5.5e6  # casing\n",
    "# sigmainside = 1  # inside the casing\n",
    "# mucasing = 50  # casing permeability\n",
    "\n",
    "# casing_top = -900. # z-location of the top of the casing\n",
    "# casing_l = 100   # length of the casing\n",
    "# casing_d = 10e-2  # 10cm diameter casing\n",
    "# casing_t = 1e-2   # 1cm thickness\n",
    "\n",
    "# # layer\n",
    "# sigmalayer = sigmaback\n",
    "# layer_z = np.r_[-100., -200.]\n",
    "\n",
    "# # # 3D body\n",
    "# # sigmablock =  2.\n",
    "# # block_x = np.r_[75., 475.]\n",
    "# # block_y = np.r_[-125, 125.]\n",
    "# # block_z = layer_z\n",
    "\n",
    "# # Survey Params\n",
    "# freqs = np.r_[1e-4, 1e-3, 1e-2, 1e-1, 0.5, 1]  # frequencies 0.5\n",
    "# dsz = -950.  # down-hole z source location\n",
    "\n",
    "# src_a = np.r_[0., 0., dsz]\n",
    "# src_b = np.r_[1e4, 0.,  0.]  # return electrode is a ring, 200"
   ]
  },
  {
   "cell_type": "code",
   "execution_count": 5,
   "metadata": {
    "collapsed": false
   },
   "outputs": [],
   "source": [
    "# src_a = np.r_[0., 0., dsz]\n",
    "# casing_r = casing_d/2.\n",
    "# casing_a = casing_r - casing_t/2.  # inner radius\n",
    "# casing_b = casing_r + casing_t/2.  # outer radius\n",
    "# casing_z = np.r_[-casing_l, 0.] + casing_top"
   ]
  },
  {
   "cell_type": "code",
   "execution_count": 6,
   "metadata": {
    "collapsed": false
   },
   "outputs": [],
   "source": [
    "# cp = CasingProperties()\n",
    "# cp.serialize()"
   ]
  },
  {
   "cell_type": "code",
   "execution_count": 7,
   "metadata": {
    "collapsed": false
   },
   "outputs": [],
   "source": [
    "# # -------------- Mesh Parameters ------------------ #\n",
    "# # x-direction\n",
    "# csx1, csx2 = 2.5e-3, 25.  # fine cells near well bore\n",
    "# pfx1, pfx2 = 1.3, 1.5  # padding factors: fine -> uniform\n",
    "# ncx1 = np.ceil(casing_b/csx1+2)  # number of fine cells\n",
    "#                                       # (past casing wall)\n",
    "# dx2 = 1000.  # uniform mesh out to here\n",
    "# npadx2 = 23  # padding out to infinity\n",
    "\n",
    "# # z-direction\n",
    "# csz = 0.05  # finest z-cells\n",
    "# nza = 10  # number of fine cells above air-earth interface\n",
    "# pfz = pfx2 # padding factor in z-direction\n",
    "\n",
    "# # ------------- Assemble the Cyl Mesh ------------- #\n",
    "# # pad nicely to second cell size\n",
    "# npadx1 = np.floor(np.log(csx2/csx1) / np.log(pfx1))\n",
    "# hx1a = Utils.meshTensor([(csx1, ncx1)])\n",
    "# hx1b = Utils.meshTensor([(csx1, npadx1, pfx1)])\n",
    "# dx1 = sum(hx1a)+sum(hx1b)\n",
    "# dx1 = np.floor(dx1/csx2)\n",
    "# hx1b *= (dx1*csx2 - sum(hx1a))/sum(hx1b)\n",
    "\n",
    "# # second chunk of mesh\n",
    "# ncx2 = np.ceil((dx2 - dx1)/csx2)\n",
    "# hx2a = Utils.meshTensor([(csx2, ncx2)])\n",
    "# hx2b = Utils.meshTensor([(csx2, npadx2, pfx2)])\n",
    "# hx = np.hstack([hx1a, hx1b, hx2a, hx2b])\n",
    "\n",
    "# # cell size, number of core cells, number of padding cells in the\n",
    "# # x-direction\n",
    "# ncz = np.int(np.ceil(-casing_z[0]/csz))+10\n",
    "# npadzu, npadzd = 38, 38\n",
    "\n",
    "# # vector of cell widths in the z-direction\n",
    "# hz = Utils.meshTensor(\n",
    "#         [(csz, npadzd, -pfz), (csz, ncz), (csz, npadzu, pfz)]\n",
    "#         )\n",
    "\n",
    "# # primary mesh\n",
    "# mesh = Mesh.CylMesh(\n",
    "#     [hx, 1., hz], [0., 0., -np.sum(hz[:npadzu+ncz-nza])]\n",
    "#     )\n",
    "\n",
    "# print(\n",
    "#     'Cyl Mesh Extent xmax: {},: zmin: {}, zmax: {}'.format(\n",
    "#         mesh.vectorCCx.max(),\n",
    "#         mesh.vectorCCz.min(),\n",
    "#         mesh.vectorCCz.max()\n",
    "#     )\n",
    "# )\n",
    "\n",
    "# print(mesh.nC)\n",
    "# print([500./np.sqrt(sigmaback*f) for f in freqs])\n",
    "# print([500./np.sqrt(sigmacasing*f) for f in freqs])"
   ]
  },
  {
   "cell_type": "code",
   "execution_count": 8,
   "metadata": {
    "collapsed": false
   },
   "outputs": [],
   "source": [
    "mesh = CasingMesh(cp).mesh"
   ]
  },
  {
   "cell_type": "markdown",
   "metadata": {},
   "source": [
    "# plot model"
   ]
  },
  {
   "cell_type": "code",
   "execution_count": 9,
   "metadata": {
    "collapsed": false
   },
   "outputs": [
    {
     "data": {
      "image/png": "[encoded data removed]",
      "text/plain": [
       "<matplotlib.figure.Figure at 0x11055b0d0>"
      ]
     },
     "metadata": {},
     "output_type": "display_data"
    }
   ],
   "source": [
    "fig, ax = plt.subplots(1,1)\n",
    "mesh.plotGrid(ax=ax)\n",
    "\n",
    "fig.savefig('{}/{}'.format(directory, 'CylMesh.png'))"
   ]
  },
  {
   "cell_type": "code",
   "execution_count": 10,
   "metadata": {
    "collapsed": false
   },
   "outputs": [],
   "source": [
    "indActive=mesh.gridCC[:,2] <= 0.\n",
    "casingMap = Maps.ParametrizedCasingAndLayer(mesh, indActive=indActive, slope=1e8)\n",
    "actMap_sigma = Maps.InjectActiveCells(mesh, indActive=indActive, valInactive=np.log(cp.sigmaair))\n",
    "actMap_mu = Maps.InjectActiveCells(mesh, indActive=indActive, valInactive=mu_0)\n",
    "expMap = Maps.ExpMap(mesh)\n",
    "\n",
    "sigmaMap = expMap * actMap_sigma * casingMap\n",
    "muMap = actMap_mu * casingMap"
   ]
  },
  {
   "cell_type": "code",
   "execution_count": 11,
   "metadata": {
    "collapsed": false
   },
   "outputs": [],
   "source": [
    "mucasing = cp.muModels[0]\n",
    "sigma_m = np.r_[\n",
    "    np.log(cp.sigmaback), np.log(cp.sigmalayer), np.log(cp.sigmacasing), np.log(cp.sigmainside),\n",
    "    cp.layer_z.mean(), cp.layer_z[1] - cp.layer_z[0], cp.casing_r, cp.casing_t, \n",
    "    cp.casing_z[0], cp.casing_z[1]\n",
    "]\n",
    "\n",
    "mu_m = np.r_[\n",
    "    mu_0, mu_0, mucasing*mu_0, mu_0,\n",
    "    cp.layer_z.mean(), cp.layer_z[1] - cp.layer_z[0], cp.casing_r, cp.casing_t, \n",
    "    cp.casing_z[0], cp.casing_z[1]\n",
    "]"
   ]
  },
  {
   "cell_type": "code",
   "execution_count": 12,
   "metadata": {
    "collapsed": false
   },
   "outputs": [
    {
     "name": "stdout",
     "output_type": "stream",
     "text": [
      "CPU times: user 23.4 s, sys: 523 ms, total: 24 s\n",
      "Wall time: 24.3 s\n"
     ]
    }
   ],
   "source": [
    "%%time\n",
    "sigma = sigmaMap * sigma_m\n",
    "mu = muMap * mu_m"
   ]
  },
  {
   "cell_type": "code",
   "execution_count": 13,
   "metadata": {
    "collapsed": false
   },
   "outputs": [
    {
     "data": {
      "text/plain": [
       "{u'casing_bottom': -1000.0,\n",
       " u'casing_radius': 0.050000000000000003,\n",
       " u'casing_thickness': 0.01,\n",
       " u'casing_top': -900.0,\n",
       " u'layer_center': -950.0,\n",
       " u'layer_thickness': 100.0,\n",
       " u'val_background': -4.6051701859880909,\n",
       " u'val_casing': 15.520258650202699,\n",
       " u'val_insideCasing': 0.0,\n",
       " u'val_layer': -4.6051701859880909}"
      ]
     },
     "execution_count": 13,
     "metadata": {},
     "output_type": "execute_result"
    }
   ],
   "source": [
    "casingMap.mDict(sigma_m)"
   ]
  },
  {
   "cell_type": "code",
   "execution_count": 14,
   "metadata": {
    "collapsed": false
   },
   "outputs": [
    {
     "data": {
      "image/png": "[encoded data removed]",
      "text/plain": [
       "<matplotlib.figure.Figure at 0x11528ca50>"
      ]
     },
     "metadata": {},
     "output_type": "display_data"
    }
   ],
   "source": [
    "fig, ax = plt.subplots(1, 2, figsize=(10,4))\n",
    "ax = plotModels(mesh, sigma, mu, xlim=[0.,0.5], zlim=[-1100., -500.], ax=ax)\n",
    "# fig.savefig('{}/{}'.format(directory, 'PhysPropModels'))"
   ]
  },
  {
   "cell_type": "markdown",
   "metadata": {
    "collapsed": false
   },
   "source": [
    "# Set up the Source"
   ]
  },
  {
   "cell_type": "code",
   "execution_count": 15,
   "metadata": {
    "collapsed": false
   },
   "outputs": [],
   "source": [
    "dhSrc = DownHoleCasingSrc(mesh, cp.src_a, cp.src_b, cp.casing_a, cp.freqs)"
   ]
  },
  {
   "cell_type": "code",
   "execution_count": 16,
   "metadata": {
    "collapsed": false
   },
   "outputs": [
    {
     "data": {
      "image/png": "[encoded data removed]",
      "text/plain": [
       "<matplotlib.figure.Figure at 0x1154b9390>"
      ]
     },
     "metadata": {},
     "output_type": "display_data"
    }
   ],
   "source": [
    "# Plot the source to make sure the path is infact\n",
    "# connected\n",
    "\n",
    "fig, ax = plt.subplots(1, 1, figsize=(6, 4))\n",
    "mesh.plotImage(np.log10(sigma), ax=ax)\n",
    "mesh.plotGrid(ax=ax)\n",
    "dhSrc.plotSrc(ax=ax)\n",
    "\n",
    "ax.set_title('downhole casing source on mesh')\n",
    "\n",
    "ax.set_xlim([0, 0.1])\n",
    "ax.set_ylim([-951., -949.])\n",
    "\n",
    "fig.savefig('{}/{}'.format(directory, 'SourceOnMesh.png'))"
   ]
  },
  {
   "cell_type": "markdown",
   "metadata": {},
   "source": [
    "# Problem and Survey"
   ]
  },
  {
   "cell_type": "code",
   "execution_count": 17,
   "metadata": {
    "collapsed": false
   },
   "outputs": [],
   "source": [
    "prob = FDEM.Problem3D_h(mesh, sigma=sigma, muMap=muMap)\n",
    "survey = FDEM.Survey(dhSrc.dg_p)\n",
    "\n",
    "prob.pair(survey)"
   ]
  },
  {
   "cell_type": "code",
   "execution_count": 18,
   "metadata": {
    "collapsed": false
   },
   "outputs": [],
   "source": [
    "def MuCasingModel(mucasing):\n",
    "    return np.r_[\n",
    "        mu_0, mu_0, mucasing*mu_0, mu_0,\n",
    "        cp.layer_z.mean(), cp.layer_z[1] - cp.layer_z[0], cp.casing_r, cp.casing_t, \n",
    "        cp.casing_z[0], cp.casing_z[1]\n",
    "    ]"
   ]
  },
  {
   "cell_type": "code",
   "execution_count": 19,
   "metadata": {
    "collapsed": true
   },
   "outputs": [],
   "source": [
    "cp.muModels = [1., 50., 100., 200.]\n",
    "fields = {}"
   ]
  },
  {
   "cell_type": "code",
   "execution_count": 20,
   "metadata": {
    "collapsed": false
   },
   "outputs": [],
   "source": [
    "if rerun is True:\n",
    "    # create a file to store results\n",
    "    results = h5py.File(\"{}/{}\".format(directory, resultsfile), \"w\")\n",
    "else:\n",
    "    results = h5py.File(\"{}/{}\".format(directory, resultsfile), \"r\")"
   ]
  },
  {
   "cell_type": "code",
   "execution_count": null,
   "metadata": {
    "collapsed": false
   },
   "outputs": [
    {
     "data": {
      "text/plain": [
       "[]"
      ]
     },
     "execution_count": 21,
     "metadata": {},
     "output_type": "execute_result"
    }
   ],
   "source": [
    "results.keys()"
   ]
  },
  {
   "cell_type": "code",
   "execution_count": null,
   "metadata": {
    "collapsed": false
   },
   "outputs": [
    {
     "name": "stdout",
     "output_type": "stream",
     "text": [
      "solving mu = 1mu_0\n"
     ]
    }
   ],
   "source": [
    "%%time\n",
    "for muMod in cp.muModels:\n",
    "    tag = int(muMod)\n",
    "    curMu = MuCasingModel(muMod)\n",
    "\n",
    "    if rerun is True:\n",
    "        print('solving mu = {}mu_0'.format(tag))\n",
    "        fields[tag] = prob.fields(curMu)\n",
    "        dbentry = \"fields_{tag}\".format(tag=tag)\n",
    "        results.create_dataset(dbentry, data=fields[tag][:,'hSolution'])\n",
    "        print('... saved fields_{tag}'.format(tag=tag))\n",
    "\n",
    "    else:\n",
    "        print('loading mu = {}mu_0'.format(tag))\n",
    "        prob.model = curMu\n",
    "        f = prob.fieldsPair(mesh, survey)\n",
    "        f[:, 'hSolution'] = results['fields_{}'.format(tag)].value\n",
    "        fields[tag] = f\n",
    "        print('... loaded mu = {}mu_0'.format(tag))"
   ]
  },
  {
   "cell_type": "code",
   "execution_count": null,
   "metadata": {
    "collapsed": false
   },
   "outputs": [],
   "source": [
    "def vecplot_j(muind, freqind, reim='real'):\n",
    "    src = survey.srcList[freqind]\n",
    "    mur = muModels[muind]\n",
    "    \n",
    "    print('{} Hz, {} mu_0'.format(freqs[freqind], mur))\n",
    "    plotme = getattr(fields[mur][src, 'j'], reim)\n",
    "    ax = plotCurrentDensity(mesh, plotme, csx=0.005, csz=5., xmax=1., zmin=-700., zmax=-1200.)\n",
    "    return ax\n",
    "\n",
    "w = widgets.interactive(\n",
    "        vecplot_j, muind=widgets.IntSlider(min=0, max=len(cp.muModels)-1),\n",
    "        freqind=widgets.IntSlider(min=0, max=len(cp.freqs)-1),\n",
    "        reim=widgets.ToggleButtons(options=['real', 'imag'])\n",
    ")\n",
    "w\n",
    "#ax.axis('equal', adjustable='box')"
   ]
  },
  {
   "cell_type": "code",
   "execution_count": null,
   "metadata": {
    "collapsed": true
   },
   "outputs": [],
   "source": [
    "# find indices where the cell centers are in the casing\n",
    "casing_ind = sigma_m.copy()\n",
    "casing_ind[[0, 1, 3]] = 0. # zero outside casing\n",
    "casing_ind[2] = 1. # 1 inside casing \n",
    "\n",
    "actMap_Zeros = Maps.InjectActiveCells(mesh, indActive, 0.)\n",
    "\n",
    "indCasing = actMap_Zeros * casingMap * casing_ind"
   ]
  },
  {
   "cell_type": "code",
   "execution_count": null,
   "metadata": {
    "collapsed": false
   },
   "outputs": [],
   "source": [
    "# plot to sanity-check\n",
    "fig, ax = plt.subplots(1,1)\n",
    "f = mesh.plotImage(indCasing, ax=ax)\n",
    "plt.colorbar(f[0])\n",
    "ax.set_xlim([0., 1.])\n",
    "ax.set_ylim([-1100., 10.])"
   ]
  },
  {
   "cell_type": "code",
   "execution_count": null,
   "metadata": {
    "collapsed": false
   },
   "outputs": [],
   "source": [
    "mur = 100\n",
    "j = fields[mur][:,'j']\n",
    "jA = Utils.sdiag(mesh.area) * j\n",
    "\n",
    "print jA.shape"
   ]
  },
  {
   "cell_type": "code",
   "execution_count": null,
   "metadata": {
    "collapsed": false
   },
   "outputs": [],
   "source": [
    "casing_faces = mesh.aveF2CC.T * indCasing\n",
    "casing_faces[casing_faces < 0.25] = 0\n",
    "\n",
    "print casing_faces.nonzero()"
   ]
  },
  {
   "cell_type": "code",
   "execution_count": null,
   "metadata": {
    "collapsed": false
   },
   "outputs": [],
   "source": [
    "fig, ax = plt.subplots(1)\n",
    "f = mesh.plotImage(mesh.aveF2CC * casing_faces, ax=ax)\n",
    "plt.colorbar(f[0])\n",
    "mesh.plotGrid(ax=ax)\n",
    "ax.set_xlim([0., 0.2])\n",
    "ax.set_ylim([-950., -951.])\n"
   ]
  },
  {
   "cell_type": "code",
   "execution_count": null,
   "metadata": {
    "collapsed": false
   },
   "outputs": [],
   "source": [
    "%%time \n",
    "JxCasing = {}\n",
    "JzCasing = {}\n",
    "\n",
    "for mur in muModels: \n",
    "    j = fields[mur][:,'j']\n",
    "    jA = Utils.sdiag(mesh.area) * j\n",
    "\n",
    "    jACasing = Utils.sdiag(casing_faces) * jA\n",
    "\n",
    "    jxCasing = []\n",
    "    jzCasing = []\n",
    "\n",
    "    for freqind in range(len(freqs)):\n",
    "        jxCasing.append(jACasing[:mesh.nFx,freqind].reshape(mesh.vnFx[0], mesh.vnFx[2], order='F'))\n",
    "        jzCasing.append(jACasing[mesh.nFx:,freqind].reshape(mesh.vnFz[0], mesh.vnFz[2], order='F'))\n",
    "    \n",
    "    JxCasing[mur] = jxCasing\n",
    "    JzCasing[mur] = jzCasing"
   ]
  },
  {
   "cell_type": "code",
   "execution_count": null,
   "metadata": {
    "collapsed": false
   },
   "outputs": [],
   "source": [
    "# def plot_over_freq(mur=1, subtract=None, real_or_imag='real', ax=None, xlim=[-1100., 0.]):\n",
    "#     print(\"mu = {} mu_0\".format(mur))\n",
    "#     jxCasing = JxCasing[mur]\n",
    "#     jzCasing = JzCasing[mur]\n",
    "\n",
    "#     if ax is None: \n",
    "#         fig, ax = plt.subplots(2,1, figsize=(10,8))\n",
    "        \n",
    "#     for a in ax:\n",
    "#         a.grid(which='both', linestyle='-', linewidth=0.4, color=[0.8, 0.8, 0.8], alpha=0.5)\n",
    "#         a.semilogy([src_a[2], src_a[2]], [1e-14, 1], color=[0.3, 0.3, 0.3])\n",
    "#         a.set_xlim(xlim)\n",
    "#         a.invert_xaxis()\n",
    "\n",
    "#     col = ['b', 'g', 'r', 'c', 'm', 'y']\n",
    "\n",
    "#     leg = []\n",
    "#     for i,f in enumerate(freqs):\n",
    "#         jx, jz = jxCasing[i].copy(), jzCasing[i].copy()\n",
    "        \n",
    "#         if subtract is not None:\n",
    "#             jx += -JxCasing[subtract][i].copy()\n",
    "#             jz += -JzCasing[subtract][i].copy()\n",
    "\n",
    "#         Iz = getattr(jz.sum(0), real_or_imag)\n",
    "#         leg.append(ax[0].semilogy(mesh.vectorNz, Iz, '-{}'.format(col[i]), label=\"{} Hz\".format(f)))\n",
    "#         ax[0].semilogy(mesh.vectorNz,-Iz,'--{}'.format(col[i]))\n",
    "\n",
    "#         Ix = getattr(jx.sum(0), real_or_imag)\n",
    "#         ax[1].semilogy(mesh.vectorCCz, Ix, '-{}'.format(col[i]))\n",
    "#         ax[1].semilogy(mesh.vectorCCz,-Ix,'--{}'.format(col[i]))\n",
    "\n",
    "#     if real_or_imag == 'real' and subtract is None: \n",
    "#         if subtract is None:\n",
    "#             ax[0].set_ylim([1e-3, 1.])\n",
    "#             ax[1].set_ylim([3e-5, 2e-4])\n",
    "#         else:\n",
    "#             ax[0].set_ylim([1e-3, 1.])\n",
    "#             ax[1].set_ylim(1e-5, 2e-4)\n",
    "\n",
    "#     elif real_or_imag == 'imag' and subtract is None:\n",
    "#         ax[0].set_ylim([1e-9, 1e-2])\n",
    "#         ax[1].set_ylim([1e-12, 1e-5])\n",
    "\n",
    "#     ax[0].legend(bbox_to_anchor=[1.15,1])\n",
    "#     plt.show()\n",
    "    \n",
    "#     return ax"
   ]
  },
  {
   "cell_type": "code",
   "execution_count": null,
   "metadata": {
    "collapsed": false
   },
   "outputs": [],
   "source": [
    "def plotMe_freq(muopt, reim, subtract=None):\n",
    "#     fig, ax = plt.subplots(2,1, figsize=(10,8))\n",
    "    mur = muModels[muopt]\n",
    "    plot_over_freq(mur, subtract=subtract, real_or_imag=reim) #, ax=ax)  \n",
    "\n",
    "w = widgets.interact(\n",
    "    plotMe_freq, \n",
    "    muopt=widgets.IntSlider(min=0., max=len(muModels)-1), \n",
    "    reim=widgets.ToggleButtons(options=['real', 'imag']),\n",
    "    subtract=widgets.ToggleButtons(options=[None, 1])\n",
    ")\n",
    "w()"
   ]
  },
  {
   "cell_type": "code",
   "execution_count": null,
   "metadata": {
    "collapsed": false
   },
   "outputs": [],
   "source": [
    "# def plot_over_mu(freqind=0, real_or_imag='real', subtract=None, ax=None):\n",
    "#     print(\"{} Hz\".format(freqs[freqind]))\n",
    "    \n",
    "#     if ax is None: \n",
    "#         fig, ax = plt.subplots(2,1, figsize=(10,8))\n",
    "        \n",
    "#     for a in ax:\n",
    "#         a.grid(which='both', linestyle='-', linewidth=0.4, color=[0.8, 0.8, 0.8], alpha=0.5)\n",
    "#         a.semilogy([src_a[2], src_a[2]], [1e-14, 1], color=[0.3, 0.3, 0.3])\n",
    "#         a.set_xlim([-1100., 0.])\n",
    "#     #     a.set_ylim([1e-3, 1.])\n",
    "#         a.invert_xaxis()\n",
    "\n",
    "#     col = ['b', 'g', 'r', 'c', 'm', 'y']\n",
    "\n",
    "#     leg = []\n",
    "#     for i, mur in enumerate(muModels):\n",
    "\n",
    "#         jxCasing = JxCasing[mur]\n",
    "#         jzCasing = JzCasing[mur]\n",
    "\n",
    "#         jx, jz = jxCasing[freqind].copy(), jzCasing[freqind].copy()\n",
    "        \n",
    "#         if subtract is not None:\n",
    "#             jx = jx - JxCasing[subtract][freqind]\n",
    "#             jz = jz - JzCasing[subtract][freqind]\n",
    "\n",
    "#         Iz = getattr(jz.sum(0), real_or_imag)\n",
    "#         leg.append(ax[0].semilogy(mesh.vectorNz, Iz, '-{}'.format(col[i]), label=\"{} $\\mu_0$\".format(mur)))\n",
    "#         ax[0].semilogy(mesh.vectorNz,-Iz,'--{}'.format(col[i]))\n",
    "\n",
    "#         Ix = getattr(jx.sum(0), real_or_imag)\n",
    "#         ax[1].semilogy(mesh.vectorCCz, Ix, '-{}'.format(col[i]))\n",
    "#         ax[1].semilogy(mesh.vectorCCz,-Ix,'--{}'.format(col[i]))\n",
    "\n",
    "#     if real_or_imag == 'real' and subtract is None:\n",
    "#         ax[0].set_ylim([1e-3, 1.])\n",
    "#         ax[1].set_ylim([1e-4, 1e-3])\n",
    "\n",
    "#     elif real_or_imag == 'imag':\n",
    "#         ax[0].set_ylim([1e-9, 1e-2])\n",
    "#         ax[1].set_ylim([1e-12, 1e-5])\n",
    "\n",
    "#     ax[0].legend(bbox_to_anchor=[1.15,1])\n",
    "#     plt.show()\n",
    "#     return ax"
   ]
  },
  {
   "cell_type": "code",
   "execution_count": null,
   "metadata": {
    "collapsed": false
   },
   "outputs": [],
   "source": [
    "def plotMe_mu(freqopt, reim, subtract=None):\n",
    "#     fig, ax = plt.subplots(2,1, figsize=(10,8))\n",
    "    freq = freqs[freqopt]\n",
    "    plot_over_mu(freqopt, subtract=subtract, real_or_imag=reim)  \n",
    "\n",
    "w = widgets.interact(\n",
    "    plotMe_mu, \n",
    "    freqopt=widgets.IntSlider(min=0., max=len(freqs)-1), \n",
    "    reim=widgets.ToggleButtons(options=['real', 'imag']),\n",
    "    subtract=widgets.ToggleButtons(options=[None, 1])\n",
    ")\n",
    "\n",
    "w"
   ]
  },
  {
   "cell_type": "code",
   "execution_count": null,
   "metadata": {
    "collapsed": true
   },
   "outputs": [],
   "source": [
    "import scipy.sparse as sp"
   ]
  },
  {
   "cell_type": "code",
   "execution_count": null,
   "metadata": {
    "collapsed": false
   },
   "outputs": [],
   "source": [
    "# # plot over mu\n",
    "\n",
    "# def plot_j_over_mu_z(freqind=0, r=1., real_or_imag='real', subtract=None, ax=None):\n",
    "#     print(\"{} Hz\".format(freqs[freqind]))\n",
    "    \n",
    "#     x_plt = np.r_[r]\n",
    "#     zlim = [-1100., 0.]\n",
    "#     z_plt = np.linspace(zlim[0], zlim[1], 1100)\n",
    "\n",
    "#     XYZ = Utils.ndgrid(x_plt, np.r_[0], z_plt)\n",
    "\n",
    "#     Pfx = mesh.getInterpolationMat(XYZ, 'Fx')\n",
    "#     Pfz = mesh.getInterpolationMat(XYZ, 'Fz')\n",
    "\n",
    "#     Pc = mesh.getInterpolationMat(XYZ, 'CC')\n",
    "#     Zero = sp.csr_matrix(Pc.shape)\n",
    "#     Pcx,Pcz = sp.hstack([Pc,Zero]),sp.hstack([Zero,Pc])\n",
    "    \n",
    "#     if ax is None: \n",
    "#         fig, ax = plt.subplots(2,1, figsize=(10,8))\n",
    "        \n",
    "#     for a in ax:\n",
    "#         a.grid(which='both', linestyle='-', linewidth=0.4, color=[0.8, 0.8, 0.8], alpha=0.5)\n",
    "#         a.semilogy([src_a[2], src_a[2]], [1e-14, 1], color=[0.3, 0.3, 0.3])\n",
    "#         a.set_xlim([-1100., 0.])\n",
    "#         a.invert_xaxis()\n",
    "\n",
    "#     col = ['b', 'g', 'r', 'c', 'm', 'y']\n",
    "\n",
    "#     leg = []\n",
    "#     for i, mur in enumerate(muModels):\n",
    "\n",
    "#         j = Utils.mkvc(fields[mur][survey.srcList[freqind],'j'].copy())\n",
    "    \n",
    "#         if subtract is not None:\n",
    "#             j = j - Utils.mkvc(fields[subtract][survey.srcList[freqind],'j'].copy())\n",
    "        \n",
    "#         if real_or_imag == 'real':\n",
    "#             j = j.real\n",
    "#         else:\n",
    "#             j = j.imag\n",
    "    \n",
    "#         jx, jz = Pfx *j, Pfz *j\n",
    "        \n",
    "#         leg.append(ax[0].semilogy(z_plt, jz, '-{}'.format(col[i]), label=\"{} $\\mu_0$\".format(mur)))\n",
    "#         ax[0].semilogy(z_plt,-jz,'--{}'.format(col[i]))\n",
    "\n",
    "#         ax[1].semilogy(z_plt, jx, '-{}'.format(col[i]))\n",
    "#         ax[1].semilogy(z_plt,-jx,'--{}'.format(col[i]))\n",
    "\n",
    "#     if real_or_imag == 'real':\n",
    "#         ax[0].set_ylim([1e-10, 1e-4])\n",
    "#         ax[1].set_ylim([1e-8, 1e-3])\n",
    "\n",
    "#     elif real_or_imag == 'imag':\n",
    "#         ax[0].set_ylim([1e-11, 1e-6])\n",
    "#         ax[1].set_ylim([1e-9, 1e-5])\n",
    "\n",
    "#     ax[0].legend(bbox_to_anchor=[1.15,1])\n",
    "#     return ax"
   ]
  },
  {
   "cell_type": "code",
   "execution_count": null,
   "metadata": {
    "collapsed": false
   },
   "outputs": [],
   "source": [
    "def plotMe_j_mu_z(freqopt, reim, r, subtract=None):\n",
    "#     fig, ax = plt.subplots(2,1, figsize=(10,8))\n",
    "    freq = freqs[freqopt]\n",
    "    plot_j_over_mu_z(freqopt, subtract=subtract, r=r, real_or_imag=reim)  \n",
    "\n",
    "widgets.interact(\n",
    "    plotMe_j_mu_z, \n",
    "    freqopt=widgets.IntSlider(min=0., max=len(freqs)-1), \n",
    "    r=widgets.FloatText(value=1.), \n",
    "    reim=widgets.ToggleButtons(options=['real', 'imag']),\n",
    "    subtract=widgets.ToggleButtons(options=[None, 1])\n",
    ")"
   ]
  },
  {
   "cell_type": "code",
   "execution_count": null,
   "metadata": {
    "collapsed": false
   },
   "outputs": [],
   "source": [
    "# # plot over mu\n",
    "\n",
    "# def plot_j_over_mu_x(freqind=0, z=-950., real_or_imag='real', subtract=None, ax=None, xlim = [0., 2000.]):\n",
    "#     print(\"{} Hz\".format(freqs[freqind]))\n",
    "    \n",
    "#     x_plt = np.linspace(xlim[0], xlim[1], xlim[1])\n",
    "#     z_plt = np.r_[z]\n",
    "\n",
    "#     XYZ = Utils.ndgrid(x_plt, np.r_[0], z_plt)\n",
    "\n",
    "#     Pfx = mesh.getInterpolationMat(XYZ, 'Fx')\n",
    "#     Pfz = mesh.getInterpolationMat(XYZ, 'Fz')\n",
    "\n",
    "#     Pc = mesh.getInterpolationMat(XYZ, 'CC')\n",
    "#     Zero = sp.csr_matrix(Pc.shape)\n",
    "#     Pcx,Pcz = sp.hstack([Pc,Zero]),sp.hstack([Zero,Pc])\n",
    "    \n",
    "#     if ax is None: \n",
    "#         fig, ax = plt.subplots(2,1, figsize=(10,8))\n",
    "        \n",
    "#     for a in ax:\n",
    "#         a.grid(which='both', linestyle='-', linewidth=0.4, color=[0.8, 0.8, 0.8], alpha=0.5)\n",
    "# #         a.semilogy([src_a[2], src_a[2]], [1e-14, 1], color=[0.3, 0.3, 0.3])\n",
    "#         a.set_xlim(xlim)\n",
    "# #         a.invert_xaxis()\n",
    "\n",
    "#     col = ['b', 'g', 'r', 'c', 'm', 'y']\n",
    "\n",
    "#     leg = []\n",
    "#     for i, mur in enumerate(muModels):\n",
    "\n",
    "#         j = Utils.mkvc(fields[mur][survey.srcList[freqind],'j'].copy())\n",
    "    \n",
    "#         if subtract is not None:\n",
    "#             j = j - Utils.mkvc(fields[subtract][survey.srcList[freqind],'j'].copy())\n",
    "        \n",
    "#         if real_or_imag == 'real':\n",
    "#             j = j.real\n",
    "#         else:\n",
    "#             j = j.imag\n",
    "    \n",
    "#         jx, jz = Pfx *j, Pfz *j\n",
    "        \n",
    "#         if np.any(jz > 0):\n",
    "#             leg.append(ax[0].semilogy(x_plt, jz, '-{}'.format(col[i]), label=\"{} $\\mu_0$\".format(mur)))\n",
    "#         if np.any(jz < 0):\n",
    "#             ax[0].semilogy(x_plt,-jz,'--{}'.format(col[i]))\n",
    "\n",
    "#         if np.any(jx > 0):\n",
    "#             ax[1].semilogy(x_plt, jx, '-{}'.format(col[i]))\n",
    "#         if np.any(jx < 0):\n",
    "#             ax[1].semilogy(x_plt,-jx,'--{}'.format(col[i]))\n",
    "\n",
    "#     if real_or_imag == 'real':\n",
    "#         ax[0].set_ylim([1e-11, 2e-6])\n",
    "#         ax[1].set_ylim([1e-11, 2e-5])\n",
    "\n",
    "#     elif real_or_imag == 'imag':\n",
    "#         ax[0].set_ylim([1e-11, 1e-6])\n",
    "#         ax[1].set_ylim([1e-9, 1e-5])\n",
    "\n",
    "#     ax[0].legend(bbox_to_anchor=[1.15,1])\n",
    "#     return ax"
   ]
  },
  {
   "cell_type": "code",
   "execution_count": null,
   "metadata": {
    "collapsed": false
   },
   "outputs": [],
   "source": [
    "def plotMe_j_mu_x(freqopt, reim, z, subtract=None):\n",
    "    fig, ax = plt.subplots(2,1, figsize=(10,8))\n",
    "    freq = freqs[freqopt]\n",
    "    plot_j_over_mu_x(freqopt, subtract=subtract, z=z, real_or_imag=reim, ax=ax)\n",
    "    plt.show()\n",
    "\n",
    "j_over_x = widgets.interactive(\n",
    "    plotMe_j_mu_x, \n",
    "    freqopt=widgets.IntSlider(min=0., max=len(freqs)-1, continuous_update=False), \n",
    "    z=widgets.FloatText(value=-950., continuous_update=False), \n",
    "    subtract=widgets.ToggleButtons(options=[None, 1], continuous_update=False), \n",
    "    reim=widgets.ToggleButtons(options=['real', 'imag'], continuous_update=False)\n",
    ")\n",
    "j_over_x"
   ]
  },
  {
   "cell_type": "code",
   "execution_count": null,
   "metadata": {
    "collapsed": true
   },
   "outputs": [],
   "source": []
  },
  {
   "cell_type": "code",
   "execution_count": null,
   "metadata": {
    "collapsed": true
   },
   "outputs": [],
   "source": []
  }
 ],
 "metadata": {
  "anaconda-cloud": {},
  "kernelspec": {
   "display_name": "Python [default]",
   "language": "python",
   "name": "python2"
  },
  "language_info": {
   "codemirror_mode": {
    "name": "ipython",
    "version": 2
   },
   "file_extension": ".py",
   "mimetype": "text/x-python",
   "name": "python",
   "nbconvert_exporter": "python",
   "pygments_lexer": "ipython2",
   "version": "2.7.12"
  }
 },
 "nbformat": 4,
 "nbformat_minor": 1
}
