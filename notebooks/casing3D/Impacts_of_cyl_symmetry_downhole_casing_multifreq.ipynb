{
 "cells": [
  {
   "cell_type": "markdown",
   "metadata": {},
   "source": [
    "# Impacts of Cylindrical Symmetry for a downhole casing source"
   ]
  },
  {
   "cell_type": "code",
   "execution_count": 1,
   "metadata": {
    "collapsed": false
   },
   "outputs": [
    {
     "name": "stderr",
     "output_type": "stream",
     "text": [
      "/Users/lindseyjh/git/python_symlinks/properties/basic.py:36: FutureWarning: Deprecation warning: info_text has been renamed class_info. Consider updating class Model \n",
      "  'Consider updating class {} '.format(name), FutureWarning)\n",
      "/Users/lindseyjh/git/python_symlinks/properties/basic.py:36: FutureWarning: Deprecation warning: info_text has been renamed class_info. Consider updating class Mapping \n",
      "  'Consider updating class {} '.format(name), FutureWarning)\n",
      "/Users/lindseyjh/git/python_symlinks/properties/basic.py:36: FutureWarning: Deprecation warning: info_text has been renamed class_info. Consider updating class PhysicalProperty \n",
      "  'Consider updating class {} '.format(name), FutureWarning)\n"
     ]
    }
   ],
   "source": [
    "import time\n",
    "import discretize\n",
    "from discretize import utils\n",
    "import numpy as np\n",
    "import scipy.sparse as sp\n",
    "\n",
    "import sympy\n",
    "from scipy.constants import mu_0\n",
    "\n",
    "from SimPEG.EM import FDEM\n",
    "from SimPEG import Utils, Maps\n",
    "\n",
    "import casingSimulations\n",
    "\n",
    "from pymatsolver import Pardiso\n",
    "\n",
    "import matplotlib.pyplot as plt\n",
    "%matplotlib inline"
   ]
  },
  {
   "cell_type": "code",
   "execution_count": 2,
   "metadata": {
    "collapsed": true
   },
   "outputs": [],
   "source": [
    "simDir = 'Impacts_of_cyl_symmetry_downhole_casing_multifreq'"
   ]
  },
  {
   "cell_type": "code",
   "execution_count": 3,
   "metadata": {
    "collapsed": false
   },
   "outputs": [
    {
     "name": "stdout",
     "output_type": "stream",
     "text": [
      "Casing Parameters: \n",
      "\n"
     ]
    },
    {
     "data": {
      "text/plain": [
       "{u'__class__': 'CasingParameters',\n",
       " 'casing_d': 0.1,\n",
       " 'casing_l': 1000.0,\n",
       " 'casing_t': 0.01,\n",
       " 'casing_top': 0.0,\n",
       " 'freqs': [0.5, 1.0, 2.0],\n",
       " 'layer_z': [-1000.0, -900.0],\n",
       " 'mur_casing': 100.0,\n",
       " 'sigma_air': 1e-08,\n",
       " 'sigma_back': 0.1,\n",
       " 'sigma_casing': 5500000.0,\n",
       " 'sigma_inside': 1.0,\n",
       " 'sigma_layer': 0.1,\n",
       " 'src_a': [0.0, 3.141592653589793, -950.0],\n",
       " 'src_b': [1000.0, 3.141592653589793, 0.0],\n",
       " 'version': u'0.0.1'}"
      ]
     },
     "execution_count": 3,
     "metadata": {},
     "output_type": "execute_result"
    }
   ],
   "source": [
    "sigma_back = 1e-1 # wholespace\n",
    "\n",
    "# top casing source\n",
    "cp = casingSimulations.CasingParameters(\n",
    "    casing_l = 1000.,  # 1km long casing\n",
    "    src_a = np.r_[0., np.pi, -950.], # the source fcts will take care of coupling it to the casing\n",
    "    src_b = np.r_[1e3, np.pi, 0.], # return electrode  \n",
    "    freqs = np.r_[0.5, 1., 2.],\n",
    "    sigma_back = sigma_back,\n",
    "    sigma_layer = sigma_back,\n",
    ")\n",
    "print('Casing Parameters: \\n')\n",
    "cp.serialize()"
   ]
  },
  {
   "cell_type": "code",
   "execution_count": null,
   "metadata": {
    "collapsed": false
   },
   "outputs": [],
   "source": [
    "cp.save(directory=simDir)"
   ]
  },
  {
   "cell_type": "code",
   "execution_count": null,
   "metadata": {
    "collapsed": false
   },
   "outputs": [],
   "source": [
    "print('skin depths in casing: ', cp.skin_depth(sigma=cp.sigma_casing, mu=cp.mur_casing*mu_0))\n",
    "print('casing thickness: ',  cp.casing_t)"
   ]
  },
  {
   "cell_type": "code",
   "execution_count": null,
   "metadata": {
    "collapsed": false
   },
   "outputs": [],
   "source": [
    "print('skin depths in background: ', cp.skin_depth())"
   ]
  },
  {
   "cell_type": "markdown",
   "metadata": {},
   "source": [
    "# Set up meshes"
   ]
  },
  {
   "cell_type": "code",
   "execution_count": null,
   "metadata": {
    "collapsed": false
   },
   "outputs": [],
   "source": [
    "npadx, npadz = 9, 18\n",
    "dx2 = 200. \n",
    "csz = 0.5\n",
    "\n",
    "meshGen2D = casingSimulations.CasingMeshGenerator(\n",
    "    cp=cp, npadx=npadx, npadz=npadz, domain_x2=dx2, csz=csz\n",
    ")\n",
    "mesh2D = meshGen2D.mesh\n",
    "\n",
    "print(mesh2D.vectorNx.max(), mesh2D.vectorNz.min(), mesh2D.vectorNz.max())"
   ]
  },
  {
   "cell_type": "code",
   "execution_count": null,
   "metadata": {
    "collapsed": false
   },
   "outputs": [],
   "source": [
    "ncy = 1\n",
    "nstretchy = 3\n",
    "stretchfact = 1.6\n",
    "hy = utils.meshTensor([(1, nstretchy, -stretchfact), (1, ncy), (1, nstretchy, stretchfact)])\n",
    "hy = hy * 2*np.pi/hy.sum()"
   ]
  },
  {
   "cell_type": "code",
   "execution_count": null,
   "metadata": {
    "collapsed": false
   },
   "outputs": [],
   "source": [
    "meshGen3D = casingSimulations.CasingMeshGenerator(\n",
    "    cp=cp, npadx=npadx, npadz=npadz, domain_x2=dx2, hy=hy, csz=csz\n",
    ")"
   ]
  },
  {
   "cell_type": "code",
   "execution_count": null,
   "metadata": {
    "collapsed": false
   },
   "outputs": [],
   "source": [
    "meshGen2D.save(directory=simDir, filename='mesh2D.json')\n",
    "meshGen3D.save(directory=simDir, filename='mesh3D.json')"
   ]
  },
  {
   "cell_type": "code",
   "execution_count": null,
   "metadata": {
    "collapsed": true
   },
   "outputs": [],
   "source": [
    "mesh2D = meshGen2D.mesh\n",
    "mesh3D = meshGen3D.mesh"
   ]
  },
  {
   "cell_type": "code",
   "execution_count": null,
   "metadata": {
    "collapsed": false
   },
   "outputs": [],
   "source": [
    "mesh2D.plotGrid()"
   ]
  },
  {
   "cell_type": "code",
   "execution_count": null,
   "metadata": {
    "collapsed": false
   },
   "outputs": [],
   "source": [
    "mesh3D.plotGrid()"
   ]
  },
  {
   "cell_type": "code",
   "execution_count": null,
   "metadata": {
    "collapsed": false
   },
   "outputs": [],
   "source": [
    "src2D = casingSimulations.sources.DownHoleCasingSrc(cp=cp, mesh=mesh2D)\n",
    "src3D = casingSimulations.sources.DownHoleCasingSrc(cp=cp, mesh=mesh3D)"
   ]
  },
  {
   "cell_type": "code",
   "execution_count": null,
   "metadata": {
    "collapsed": false
   },
   "outputs": [],
   "source": [
    "fig, ax = plt.subplots(1,1)\n",
    "mesh2D.plotGrid(ax=ax)\n",
    "src2D.plot(ax=ax)\n",
    "ax.set_xlim([0.,0.5])\n",
    "ax.set_ylim(np.r_[-960., -940.])"
   ]
  },
  {
   "cell_type": "code",
   "execution_count": null,
   "metadata": {
    "collapsed": false
   },
   "outputs": [],
   "source": [
    "fig, ax = plt.subplots(1,1)\n",
    "mesh2D.plotGrid(ax=ax)\n",
    "src3D.plot(ax=ax)\n",
    "ax.set_xlim(0.1*np.r_[0,1.])\n",
    "ax.set_ylim(np.r_[-951., -949.])"
   ]
  },
  {
   "cell_type": "code",
   "execution_count": null,
   "metadata": {
    "collapsed": false
   },
   "outputs": [],
   "source": [
    "# validate the source terms\n",
    "src3D.validate()\n",
    "src2D.validate()"
   ]
  },
  {
   "cell_type": "code",
   "execution_count": null,
   "metadata": {
    "collapsed": false
   },
   "outputs": [],
   "source": [
    "ax = plt.subplot(111, projection='polar')\n",
    "mesh3D.plotGrid(ax=ax, slice='z')\n",
    "ax.plot(mesh3D.gridFx[src3D.surface_wire,1], mesh3D.gridFx[src3D.surface_wire,0], 'ro')\n",
    "ax.set_rlim([0., 1500])"
   ]
  },
  {
   "cell_type": "markdown",
   "metadata": {},
   "source": [
    "# Look at physical properties on mesh"
   ]
  },
  {
   "cell_type": "code",
   "execution_count": null,
   "metadata": {
    "collapsed": false
   },
   "outputs": [],
   "source": [
    "physprops2D = casingSimulations.PhysicalProperties(mesh2D, cp)\n",
    "physprops3D = casingSimulations.PhysicalProperties(mesh3D, cp)"
   ]
  },
  {
   "cell_type": "code",
   "execution_count": null,
   "metadata": {
    "collapsed": false
   },
   "outputs": [],
   "source": [
    "np.unique(physprops2D.sigma)"
   ]
  },
  {
   "cell_type": "code",
   "execution_count": null,
   "metadata": {
    "collapsed": false
   },
   "outputs": [],
   "source": [
    "xlim = [-1., 1]\n",
    "ylim = [-1200., 100.]\n",
    "fig, ax = plt.subplots(1, 2, figsize=(12, 4))\n",
    "plt.colorbar(\n",
    "    mesh2D.plotImage(np.log10(physprops2D.sigma), ax=ax[0], mirror=True)[0], ax=ax[0]\n",
    ")\n",
    "ax[0].set_xlim(xlim)\n",
    "ax[0].set_ylim(ylim)\n",
    "ax[0].set_title('$\\log(\\sigma)$ on 2D mesh')\n",
    "\n",
    "sigmaplt = physprops3D.sigma.reshape(mesh3D.vnC, order='F')\n",
    "\n",
    "plt.colorbar(mesh2D.plotImage(np.log10(utils.mkvc(sigmaplt[:,0,:])), ax=ax[1], mirror=True)[0], ax=ax[1])\n",
    "ax[1].set_xlim(xlim)\n",
    "ax[1].set_ylim(ylim)\n",
    "ax[1].set_title('$\\log(\\sigma)$ on 3D mesh')\n",
    "\n",
    "plt.tight_layout()"
   ]
  },
  {
   "cell_type": "code",
   "execution_count": null,
   "metadata": {
    "collapsed": false
   },
   "outputs": [],
   "source": [
    "xlim = [-1., 1]\n",
    "ylim = [-1200., 100.]\n",
    "fig, ax = plt.subplots(1, 2, figsize=(12, 4))\n",
    "plt.colorbar(\n",
    "    mesh2D.plotImage(physprops2D.mur, ax=ax[0], mirror=True)[0], ax=ax[0]\n",
    ")\n",
    "ax[0].set_xlim(xlim)\n",
    "ax[0].set_ylim(ylim)\n",
    "ax[0].set_title('$\\mu_r$ on 2D mesh')\n",
    "\n",
    "murplt = physprops3D.mur.reshape(mesh3D.vnC, order='F')\n",
    "\n",
    "plt.colorbar(mesh2D.plotImage(utils.mkvc(murplt[:,0,:]), ax=ax[1], mirror=True)[0], ax=ax[1])\n",
    "ax[1].set_xlim(xlim)\n",
    "ax[1].set_ylim(ylim)\n",
    "ax[1].set_title('$\\mu_r$ on 3D mesh')\n",
    "\n",
    "plt.tight_layout()"
   ]
  },
  {
   "cell_type": "markdown",
   "metadata": {},
   "source": [
    "# Load the results"
   ]
  },
  {
   "cell_type": "code",
   "execution_count": null,
   "metadata": {
    "collapsed": false
   },
   "outputs": [],
   "source": [
    "# deserealize properties\n",
    "meshGen2D=casingSimulations.load_properties('/'.join([simDir, 'mesh2D.json']))\n",
    "meshGen3D=casingSimulations.load_properties('/'.join([simDir, 'mesh3D.json']))\n",
    "cp=casingSimulations.load_properties('/'.join([simDir, 'casingParameters.json']))"
   ]
  },
  {
   "cell_type": "code",
   "execution_count": null,
   "metadata": {
    "collapsed": false
   },
   "outputs": [],
   "source": [
    "# load fields\n",
    "hfield2D = np.load('/'.join([simDir, 'fields2D.npy']))\n",
    "hfield3D = np.load('/'.join([simDir, 'fields3D.npy']))"
   ]
  },
  {
   "cell_type": "code",
   "execution_count": null,
   "metadata": {
    "collapsed": false
   },
   "outputs": [],
   "source": [
    "# set up the pieces of the 2D simulation\n",
    "sim2D = casingSimulations.run.SimulationFDEM(cp=cp, meshGenerator=meshGen2D, srcType='DownHoleCasingSrc')\n",
    "sim2D.prob.model = sim2D.physprops.model\n",
    "fields2D = sim2D.prob.fieldsPair(meshGen2D.mesh, sim2D.survey)\n",
    "fields2D[:,'hSolution'] = hfield2D\n",
    "srcList2D = sim2D.survey.srcList"
   ]
  },
  {
   "cell_type": "code",
   "execution_count": null,
   "metadata": {
    "collapsed": false
   },
   "outputs": [],
   "source": [
    "# set up the pieces of the 3D simulation\n",
    "sim3D = casingSimulations.run.SimulationFDEM(cp=cp, meshGenerator=meshGen3D, srcType='TopCasingSrc')\n",
    "sim3D.prob.model = sim3D.physprops.model\n",
    "fields3D = sim3D.prob.fieldsPair(meshGen3D.mesh, sim3D.survey)\n",
    "fields3D[:,'hSolution'] = hfield3D\n",
    "srcList3D = sim3D.survey.srcList"
   ]
  },
  {
   "cell_type": "markdown",
   "metadata": {},
   "source": [
    "## Current density"
   ]
  },
  {
   "cell_type": "code",
   "execution_count": null,
   "metadata": {
    "collapsed": false
   },
   "outputs": [],
   "source": [
    "src_ind = 1\n",
    "theta_ind = 3 # 3 is where the sources are aligned\n",
    "\n",
    "j3Dslice = casingSimulations.face3DthetaSlice(\n",
    "    mesh3D, fields3D[srcList3D[src_ind],'j'], theta_ind=theta_ind\n",
    ")\n",
    "\n",
    "j2D = fields2D[srcList2D[src_ind],'j']\n",
    "\n",
    "print('frequency: {} Hz'.format(srcList3D[src_ind].freq))"
   ]
  },
  {
   "cell_type": "markdown",
   "metadata": {},
   "source": [
    "### J Real"
   ]
  },
  {
   "cell_type": "code",
   "execution_count": null,
   "metadata": {
    "collapsed": false
   },
   "outputs": [],
   "source": [
    "# Look Deep into reservoir\n",
    "fig, ax = plt.subplots(1,3,figsize=(15,6))\n",
    "\n",
    "[\n",
    "    casingSimulations.plotFace2D(\n",
    "        mesh2D, \n",
    "        f, \n",
    "        real_or_imag='real', \n",
    "        range_x=np.r_[0., 1500.],\n",
    "        range_y=np.r_[-2000., 100.],\n",
    "        sample_grid=np.r_[10., 10.],\n",
    "        clim=[1e-9, 1e-3],\n",
    "        logScale=True, \n",
    "        ax=a\n",
    "    ) \n",
    "    for f, a in zip([j2D, j3Dslice, j3Dslice - j2D], ax)\n",
    "]\n",
    "\n",
    "ax[0].set_title('2D')\n",
    "ax[1].set_title('3D')\n",
    "ax[2].set_title('3D-2D')\n",
    "\n",
    "plt.tight_layout()"
   ]
  },
  {
   "cell_type": "code",
   "execution_count": null,
   "metadata": {
    "collapsed": false
   },
   "outputs": [],
   "source": [
    "# Look right next to casing\n",
    "fig, ax = plt.subplots(1,3,figsize=(15,6))\n",
    "\n",
    "[\n",
    "    casingSimulations.plotFace2D(\n",
    "        mesh2D, \n",
    "        f, \n",
    "        real_or_imag='real', \n",
    "        range_x=np.r_[0., 0.5],\n",
    "        range_y=np.r_[-2000., 100.],\n",
    "        sample_grid=np.r_[0.01, 10.],\n",
    "        clim=np.r_[1e-10, 1e1],\n",
    "        logScale=True, \n",
    "        ax=a\n",
    "    ) \n",
    "    for f, a in zip([j2D, j3Dslice, j3Dslice - j2D], ax)\n",
    "]\n",
    "\n",
    "ax[0].set_title('2D')\n",
    "ax[1].set_title('3D')\n",
    "ax[2].set_title('3D-2D')\n",
    "\n",
    "plt.tight_layout()"
   ]
  },
  {
   "cell_type": "markdown",
   "metadata": {},
   "source": [
    "### J Imag"
   ]
  },
  {
   "cell_type": "code",
   "execution_count": null,
   "metadata": {
    "collapsed": false
   },
   "outputs": [],
   "source": [
    "# imaginary part, far into reservoir\n",
    "fig, ax = plt.subplots(1, 3, figsize=(15,6))\n",
    "\n",
    "[\n",
    "    casingSimulations.plotFace2D(\n",
    "        mesh2D, \n",
    "        f, \n",
    "        real_or_imag='imag', \n",
    "        range_x=np.r_[0., 1500.],\n",
    "        range_y=np.r_[-2000., 100.],\n",
    "        sample_grid=np.r_[10., 10.],\n",
    "        clim=[1e-11, 1e-3],\n",
    "        logScale=True, \n",
    "        ax=a\n",
    "    ) \n",
    "    for f, a in zip([j2D, j3Dslice, j3Dslice - j2D], ax)\n",
    "]\n",
    "\n",
    "ax[0].set_title('2D')\n",
    "ax[1].set_title('3D')\n",
    "ax[2].set_title('3D-2D')\n",
    "\n",
    "plt.tight_layout()"
   ]
  },
  {
   "cell_type": "code",
   "execution_count": null,
   "metadata": {
    "collapsed": false
   },
   "outputs": [],
   "source": [
    "# imaginary part, far into reservoir\n",
    "fig, ax = plt.subplots(1, 3, figsize=(15,6))\n",
    "\n",
    "[\n",
    "    casingSimulations.plotFace2D(\n",
    "        mesh2D, \n",
    "        f, \n",
    "        real_or_imag='imag', \n",
    "        range_x=np.r_[0., 0.5],\n",
    "        range_y=np.r_[-2000., 100.],\n",
    "        sample_grid=np.r_[0.01, 10.],\n",
    "        clim=[1e-11, 1e0],\n",
    "        logScale=True, \n",
    "        ax=a\n",
    "    ) \n",
    "    for  f, a in zip([j2D, j3Dslice, j3Dslice - j2D], ax)\n",
    "]\n",
    "\n",
    "ax[0].set_title('2D')\n",
    "ax[1].set_title('3D')\n",
    "ax[2].set_title('3D-2D')\n",
    "\n",
    "plt.tight_layout()"
   ]
  },
  {
   "cell_type": "markdown",
   "metadata": {},
   "source": [
    "## Electric Fields"
   ]
  },
  {
   "cell_type": "code",
   "execution_count": null,
   "metadata": {
    "collapsed": true
   },
   "outputs": [],
   "source": [
    "ecyl = fields3D[srcList3D[src_ind], 'e']\n",
    "eslice = casingSimulations.utils.ccv3DthetaSlice(mesh3D, ecyl, theta_ind=theta_ind)"
   ]
  },
  {
   "cell_type": "code",
   "execution_count": null,
   "metadata": {
    "collapsed": true
   },
   "outputs": [],
   "source": [
    "ex = eslice[:mesh2D.nC]\n",
    "ey = eslice[mesh2D.nC:2*mesh2D.nC]\n",
    "ez = eslice[2*mesh2D.nC:]\n",
    "\n",
    "e2D = fields2D[srcList2D[src_ind], 'e']\n",
    "e3Dslice = np.vstack([ex, ez])"
   ]
  },
  {
   "cell_type": "markdown",
   "metadata": {},
   "source": [
    "### E real"
   ]
  },
  {
   "cell_type": "code",
   "execution_count": null,
   "metadata": {
    "collapsed": false
   },
   "outputs": [],
   "source": [
    "fig, ax = plt.subplots(1, 3, figsize=(15, 6))\n",
    "[\n",
    "    casingSimulations.plotFace2D(\n",
    "        mesh2D, \n",
    "        f, \n",
    "        real_or_imag='real', \n",
    "        range_x=np.r_[0., 1500.],\n",
    "        range_y=np.r_[-2000., 100.],\n",
    "        sample_grid=np.r_[10., 10.],\n",
    "        clim=[1e-8, 1e-3],\n",
    "        logScale=True, \n",
    "        ax=a\n",
    "    ) \n",
    "    for f, a in zip([e2D, e3Dslice, e3Dslice - e2D], ax)\n",
    "]\n",
    "\n",
    "plt.tight_layout()\n",
    "ax[0].set_title('e2D')\n",
    "ax[1].set_title('e3D')\n",
    "ax[2].set_title('e3D-e2D')"
   ]
  },
  {
   "cell_type": "code",
   "execution_count": null,
   "metadata": {
    "collapsed": false
   },
   "outputs": [],
   "source": [
    "fig, ax = plt.subplots(1, 3, figsize=(15, 6))\n",
    "[\n",
    "    casingSimulations.plotFace2D(\n",
    "        mesh2D, \n",
    "        f, \n",
    "        real_or_imag='real', \n",
    "        range_x=np.r_[0., 0.5],\n",
    "        range_y=np.r_[-2000., 100.],\n",
    "        sample_grid=np.r_[0.01, 10.],\n",
    "        clim=[1e-9, 1e-1],\n",
    "        logScale=True, \n",
    "        ax=a\n",
    "    ) \n",
    "    for f, a in zip([e2D, e3Dslice, e3Dslice - e2D], ax)\n",
    "]\n",
    "\n",
    "plt.tight_layout()\n",
    "ax[0].set_title('e2D')\n",
    "ax[1].set_title('e3D')\n",
    "ax[2].set_title('e3D-e2D')"
   ]
  },
  {
   "cell_type": "markdown",
   "metadata": {},
   "source": [
    "### E imag"
   ]
  },
  {
   "cell_type": "code",
   "execution_count": null,
   "metadata": {
    "collapsed": false
   },
   "outputs": [],
   "source": [
    "fig, ax = plt.subplots(1, 3, figsize=(15, 6))\n",
    "\n",
    "[\n",
    "    casingSimulations.plotFace2D(\n",
    "        mesh2D, \n",
    "        f, \n",
    "        real_or_imag='imag', \n",
    "        range_x=np.r_[0., 1500.],\n",
    "        range_y=np.r_[-2500., 100.],\n",
    "        sample_grid=np.r_[10., 10.],\n",
    "        clim=[1e-9, 1e-4],\n",
    "        logScale=True, \n",
    "        ax=a\n",
    "    ) \n",
    "    for f, a in zip([e2D, e3Dslice, e3Dslice - e2D], ax)\n",
    "]\n",
    "\n",
    "plt.tight_layout()\n",
    "ax[0].set_title('e2D')\n",
    "ax[1].set_title('e3D')\n",
    "ax[2].set_title('e3D-e2D')"
   ]
  },
  {
   "cell_type": "code",
   "execution_count": null,
   "metadata": {
    "collapsed": false
   },
   "outputs": [],
   "source": [
    "fig, ax = plt.subplots(1, 3, figsize=(15, 6))\n",
    "\n",
    "[\n",
    "    casingSimulations.plotFace2D(\n",
    "        mesh2D, \n",
    "        f, \n",
    "        real_or_imag='imag', \n",
    "        range_x=np.r_[0., 0.5],\n",
    "        range_y=np.r_[-2500., 100.],\n",
    "        sample_grid=np.r_[0.01, 10.],\n",
    "        clim=[1e-10, 1e-1],\n",
    "        logScale=True, \n",
    "        ax=a\n",
    "    ) \n",
    "    for f, a in zip([e2D, e3Dslice, e3Dslice - e2D], ax)\n",
    "]\n",
    "\n",
    "plt.tight_layout()\n",
    "ax[0].set_title('e2D')\n",
    "ax[1].set_title('e3D')\n",
    "ax[2].set_title('e3D-e2D')"
   ]
  },
  {
   "cell_type": "code",
   "execution_count": null,
   "metadata": {
    "collapsed": true
   },
   "outputs": [],
   "source": []
  }
 ],
 "metadata": {
  "kernelspec": {
   "display_name": "Python 2",
   "language": "python",
   "name": "python2"
  },
  "language_info": {
   "codemirror_mode": {
    "name": "ipython",
    "version": 2
   },
   "file_extension": ".py",
   "mimetype": "text/x-python",
   "name": "python",
   "nbconvert_exporter": "python",
   "pygments_lexer": "ipython2",
   "version": "2.7.13"
  }
 },
 "nbformat": 4,
 "nbformat_minor": 1
}
