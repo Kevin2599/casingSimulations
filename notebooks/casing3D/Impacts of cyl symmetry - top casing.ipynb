{
 "cells": [
  {
   "cell_type": "code",
   "execution_count": 4,
   "metadata": {
    "collapsed": true
   },
   "outputs": [],
   "source": [
    "import discretize\n",
    "from discretize import utils\n",
    "import numpy as np\n",
    "import scipy.sparse as sp\n",
    "import sympy\n",
    "import matplotlib.pyplot as plt\n",
    "from scipy.constants import mu_0\n",
    "\n",
    "from SimPEG.EM import FDEM\n",
    "from SimPEG import Utils, Maps\n",
    "\n",
    "import CasingSimulations\n",
    "\n",
    "from pymatsolver import Pardiso\n",
    "\n",
    "%matplotlib inline"
   ]
  },
  {
   "cell_type": "code",
   "execution_count": 6,
   "metadata": {
    "collapsed": false
   },
   "outputs": [
    {
     "data": {
      "text/plain": [
       "{u'__class__': 'CasingProperties',\n",
       " 'casing_d': 0.1,\n",
       " 'casing_l': 1000.0,\n",
       " 'casing_t': 0.01,\n",
       " 'casing_top': 0.0,\n",
       " 'freqs': [0.1, 1.0, 2.0],\n",
       " 'layer_z': [-1000.0, -900.0],\n",
       " 'mu_casing': 100.0,\n",
       " 'sigma_air': 0.1,\n",
       " 'sigma_back': 0.1,\n",
       " 'sigma_casing': 5500000.0,\n",
       " 'sigma_inside': 1.0,\n",
       " 'sigma_layer': 0.1,\n",
       " 'src_a': [0.0, 0.0, 0.0],\n",
       " 'src_b': [1000.0, 0.0, 0.0]}"
      ]
     },
     "execution_count": 6,
     "metadata": {},
     "output_type": "execute_result"
    }
   ],
   "source": [
    "sigma_back = 1e-1 # wholespace\n",
    "\n",
    "# top casing source\n",
    "cp = CasingSimulations.CasingProperties(\n",
    "    casing_l = 1000.,\n",
    "    src_a = np.r_[0., 0., 0.],\n",
    "    src_b = np.r_[1e3, 0., 0.], # return electrode  \n",
    "    freqs = np.r_[0.1, 1., 2.],\n",
    "    sigma_back = sigma_back, # wholespace\n",
    "    sigma_layer = sigma_back,\n",
    "    sigma_air = sigma_back,\n",
    "    \n",
    ")\n",
    "cp.serialize()"
   ]
  },
  {
   "cell_type": "markdown",
   "metadata": {},
   "source": [
    "# Set up meshes"
   ]
  },
  {
   "cell_type": "code",
   "execution_count": null,
   "metadata": {
    "collapsed": true
   },
   "outputs": [],
   "source": [
    "npadx, npadz = 11, 26\n",
    "dx2 = 500. \n",
    "\n",
    "mesh2D = CasingSimulations.CasingMesh(cp=cp, npadx=npadx, npadz=npadz, dx2=dx2).mesh\n",
    "mesh3D = CasingSimulations.CasingMesh(cp=cp, ncy=4, npadx=npadx, npadz=npadz, dx2=dx2).mesh"
   ]
  }
 ],
 "metadata": {
  "kernelspec": {
   "display_name": "Python [default]",
   "language": "python",
   "name": "python2"
  },
  "language_info": {
   "codemirror_mode": {
    "name": "ipython",
    "version": 2
   },
   "file_extension": ".py",
   "mimetype": "text/x-python",
   "name": "python",
   "nbconvert_exporter": "python",
   "pygments_lexer": "ipython2",
   "version": "2.7.13"
  }
 },
 "nbformat": 4,
 "nbformat_minor": 1
}
