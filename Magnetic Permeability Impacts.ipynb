{
 "cells": [
  {
   "cell_type": "code",
   "execution_count": 36,
   "metadata": {
    "collapsed": false
   },
   "outputs": [
    {
     "data": {
      "text/plain": [
       "<matplotlib.figure.Figure at 0x114418e10>"
      ]
     },
     "metadata": {},
     "output_type": "display_data"
    }
   ],
   "source": [
    "import numpy as np\n",
    "from SimPEG import Mesh, Utils, Maps\n",
    "from SimPEG.EM import FDEM, TDEM, mu_0\n",
    "import matplotlib.pyplot as plt\n",
    "from pymatsolver import PardisoSolver as Solver\n",
    "%matplotlib inline\n",
    "\n",
    "# set a nice colormap\n",
    "plt.set_cmap(plt.get_cmap('viridis'))"
   ]
  },
  {
   "cell_type": "markdown",
   "metadata": {},
   "source": [
    "# Model Parameters"
   ]
  },
  {
   "cell_type": "code",
   "execution_count": 2,
   "metadata": {
    "collapsed": true
   },
   "outputs": [],
   "source": [
    "sigmaair = 1e-8  # air\n",
    "sigmaback = 1e-2  # background\n",
    "\n",
    "sigmacasing = 5.5e6  # casing\n",
    "sigmainside = 1  # inside the casing\n",
    "mucasing = 50  # casing permeability\n",
    "\n",
    "casing_l = 1000   # length of the casing\n",
    "casing_d = 10e-2  # 10cm diameter casing\n",
    "casing_t = 1e-2   # 1cm thickness\n",
    "\n",
    "# layer\n",
    "sigmalayer = sigmaback\n",
    "layer_z = np.r_[-1000., -900.]\n",
    "\n",
    "# # 3D body\n",
    "# sigmablock =  2.\n",
    "# block_x = np.r_[75., 475.]\n",
    "# block_y = np.r_[-125, 125.]\n",
    "# block_z = layer_z\n",
    "\n",
    "# Survey Params\n",
    "freqs = np.r_[1e-4, 1e-3, 1e-2, 1e-1, 0.5, 1]  # frequencies 0.5\n",
    "dsz = -950.  # down-hole z source location\n",
    "\n",
    "src_a = np.r_[0., 0., dsz]\n",
    "src_b = np.r_[1e4, 0.,  0.]  # return electrode is a ring, 200"
   ]
  },
  {
   "cell_type": "code",
   "execution_count": 3,
   "metadata": {
    "collapsed": true
   },
   "outputs": [],
   "source": [
    "# useful quantities to work in\n",
    "casing_r = casing_d/2.\n",
    "casing_a = casing_r - casing_t/2.  # inner radius\n",
    "casing_b = casing_r + casing_t/2.  # outer radius\n",
    "casing_z = np.r_[-casing_l, 0.]"
   ]
  },
  {
   "cell_type": "code",
   "execution_count": 27,
   "metadata": {
    "collapsed": false
   },
   "outputs": [
    {
     "name": "stdout",
     "output_type": "stream",
     "text": [
      "Cyl Mesh Extent xmax: 702446.341501,: zmin: -615296.090052, zmax: 614296.590053\n",
      "2450492\n",
      "[500000.0, 158113.88300841895, 50000.0, 15811.388300841898, 7071.0678118654751, 5000.0]\n",
      "[21.320071635561042, 6.7419986246324211, 2.1320071635561044, 0.67419986246324204, 0.30151134457776363, 0.21320071635561044]\n"
     ]
    }
   ],
   "source": [
    "# -------------- Mesh Parameters ------------------ #\n",
    "# x-direction\n",
    "csx1, csx2 = 2.5e-3, 25.  # fine cells near well bore\n",
    "pfx1, pfx2 = 1.3, 1.5  # padding factors: fine -> uniform\n",
    "ncx1 = np.ceil(casing_b/csx1+2)  # number of fine cells\n",
    "                                      # (past casing wall)\n",
    "dx2 = 1000.  # uniform mesh out to here\n",
    "npadx2 = 23  # padding out to infinity\n",
    "\n",
    "# z-direction\n",
    "csz = 0.05  # finest z-cells\n",
    "nza = 10  # number of fine cells above air-earth interface\n",
    "pfz = pfx2 # padding factor in z-direction\n",
    "\n",
    "# ------------- Assemble the Cyl Mesh ------------- #\n",
    "# pad nicely to second cell size\n",
    "npadx1 = np.floor(np.log(csx2/csx1) / np.log(pfx1))\n",
    "hx1a = Utils.meshTensor([(csx1, ncx1)])\n",
    "hx1b = Utils.meshTensor([(csx1, npadx1, pfx1)])\n",
    "dx1 = sum(hx1a)+sum(hx1b)\n",
    "dx1 = np.floor(dx1/csx2)\n",
    "hx1b *= (dx1*csx2 - sum(hx1a))/sum(hx1b)\n",
    "\n",
    "# second chunk of mesh\n",
    "ncx2 = np.ceil((dx2 - dx1)/csx2)\n",
    "hx2a = Utils.meshTensor([(csx2, ncx2)])\n",
    "hx2b = Utils.meshTensor([(csx2, npadx2, pfx2)])\n",
    "hx = np.hstack([hx1a, hx1b, hx2a, hx2b])\n",
    "\n",
    "# cell size, number of core cells, number of padding cells in the\n",
    "# x-direction\n",
    "ncz = np.int(np.ceil(np.diff(casing_z)[0]/csz))+10\n",
    "npadzu, npadzd = 38, 38\n",
    "\n",
    "# vector of cell widths in the z-direction\n",
    "hz = Utils.meshTensor(\n",
    "        [(csz, npadzd, -pfz), (csz, ncz), (csz, npadzu, pfz)]\n",
    "        )\n",
    "\n",
    "# primary mesh\n",
    "mesh = Mesh.CylMesh(\n",
    "    [hx, 1., hz], [0., 0., -np.sum(hz[:npadzu+ncz-nza])]\n",
    "    )\n",
    "\n",
    "print(\n",
    "    'Cyl Mesh Extent xmax: {},: zmin: {}, zmax: {}'.format(\n",
    "        mesh.vectorCCx.max(),\n",
    "        mesh.vectorCCz.min(),\n",
    "        mesh.vectorCCz.max()\n",
    "    )\n",
    ")\n",
    "\n",
    "print(mesh.nC)\n",
    "print([500./np.sqrt(sigmaback*f) for f in freqs])\n",
    "print([500./np.sqrt(sigmacasing*f) for f in freqs])"
   ]
  },
  {
   "cell_type": "markdown",
   "metadata": {},
   "source": [
    "# plot model"
   ]
  },
  {
   "cell_type": "code",
   "execution_count": 7,
   "metadata": {
    "collapsed": false
   },
   "outputs": [
    {
     "data": {
      "image/png": "[encoded data removed]",
      "text/plain": [
       "<matplotlib.figure.Figure at 0x10cd40990>"
      ]
     },
     "metadata": {},
     "output_type": "display_data"
    }
   ],
   "source": [
    "mesh.plotGrid()"
   ]
  },
  {
   "cell_type": "code",
   "execution_count": 74,
   "metadata": {
    "collapsed": false
   },
   "outputs": [],
   "source": [
    "indActive=mesh.gridCC[:,2] <= 0.\n",
    "casingMap = Maps.ParametrizedCasingAndLayer(mesh, indActive=indActive, slope=1e8)\n",
    "actMap_sigma = Maps.InjectActiveCells(mesh, indActive=indActive, valInactive=np.log(sigmaair))\n",
    "actMap_mu = Maps.InjectActiveCells(mesh, indActive=indActive, valInactive=mu_0)\n",
    "expMap = Maps.ExpMap(mesh)\n",
    "\n",
    "sigmaMap = expMap * actMap_sigma * casingMap\n",
    "muMap = actMap_mu * casingMap\n",
    "\n",
    "sigma_m = np.r_[\n",
    "    np.log(sigmaback), np.log(sigmalayer), np.log(sigmacasing), np.log(sigmainside),\n",
    "    layer_z.mean(), layer_z[1] - layer_z[0], casing_r, casing_t, \n",
    "    casing_z[0], casing_z[1]\n",
    "]\n",
    "\n",
    "mu_m = np.r_[\n",
    "    mu_0, mu_0, mucasing*mu_0, mu_0,\n",
    "    layer_z.mean(), layer_z[1] - layer_z[0], casing_r, casing_t, \n",
    "    casing_z[0], casing_z[1]\n",
    "]"
   ]
  },
  {
   "cell_type": "code",
   "execution_count": 75,
   "metadata": {
    "collapsed": false
   },
   "outputs": [
    {
     "name": "stdout",
     "output_type": "stream",
     "text": [
      "CPU times: user 23 s, sys: 523 ms, total: 23.6 s\n",
      "Wall time: 24.2 s\n"
     ]
    }
   ],
   "source": [
    "%%time\n",
    "sigma = sigmaMap * sigma_m\n",
    "mu = muMap * mu_m"
   ]
  },
  {
   "cell_type": "code",
   "execution_count": 78,
   "metadata": {
    "collapsed": false
   },
   "outputs": [
    {
     "data": {
      "image/png": "[encoded data removed]",
      "text/plain": [
       "<matplotlib.figure.Figure at 0x1274ccb50>"
      ]
     },
     "metadata": {},
     "output_type": "display_data"
    }
   ],
   "source": [
    "fig, ax = plt.subplots(1, 2, figsize=(10,4))\n",
    "\n",
    "xlim = [0., 1.]\n",
    "zlim = [-1200., 100.]\n",
    "\n",
    "plt.colorbar(mesh.plotImage(np.log10(sigma), ax=ax[0])[0], ax=ax[0])\n",
    "plt.colorbar(mesh.plotImage(mu/mu_0, ax=ax[1])[0], ax=ax[1])\n",
    "\n",
    "ax[0].set_xlim(xlim)\n",
    "ax[1].set_xlim(xlim)\n",
    "\n",
    "ax[0].set_ylim(zlim)\n",
    "ax[1].set_ylim(zlim)\n",
    "\n",
    "ax[0].set_title('$\\log_{10}\\sigma$')\n",
    "ax[1].set_title('$\\mu_r$')\n",
    "\n",
    "plt.tight_layout()"
   ]
  },
  {
   "cell_type": "code",
   "execution_count": 66,
   "metadata": {
    "collapsed": false
   },
   "outputs": [
    {
     "data": {
      "text/plain": [
       "5481340.7180621233"
      ]
     },
     "execution_count": 66,
     "metadata": {},
     "output_type": "execute_result"
    }
   ],
   "source": [
    "sigma.max()"
   ]
  },
  {
   "cell_type": "code",
   "execution_count": null,
   "metadata": {
    "collapsed": true
   },
   "outputs": [],
   "source": []
  }
 ],
 "metadata": {
  "anaconda-cloud": {},
  "kernelspec": {
   "display_name": "Python [default]",
   "language": "python",
   "name": "python2"
  },
  "language_info": {
   "codemirror_mode": {
    "name": "ipython",
    "version": 2
   },
   "file_extension": ".py",
   "mimetype": "text/x-python",
   "name": "python",
   "nbconvert_exporter": "python",
   "pygments_lexer": "ipython2",
   "version": "2.7.12"
  }
 },
 "nbformat": 4,
 "nbformat_minor": 1
}
