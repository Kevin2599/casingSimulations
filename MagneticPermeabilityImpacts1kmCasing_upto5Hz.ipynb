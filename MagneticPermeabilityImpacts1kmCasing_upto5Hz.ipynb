{
 "cells": [
  {
   "cell_type": "markdown",
   "metadata": {},
   "source": [
    "## Using the em/feat/muinversion branch of SimPEG (http://github.com/simpeg/simpeg)"
   ]
  },
  {
   "cell_type": "code",
   "execution_count": 1,
   "metadata": {
    "collapsed": false
   },
   "outputs": [],
   "source": [
    "from CasingSimulations import * \n",
    "%matplotlib inline"
   ]
  },
  {
   "cell_type": "code",
   "execution_count": 2,
   "metadata": {
    "collapsed": true
   },
   "outputs": [],
   "source": [
    "directory = 'UniformBackground1kmCasing_upto5Hz'\n",
    "cpfile = \"CasingProperties.json\"\n",
    "resultsfile = \"MagneticPermeabilityImpacts.hdf5\"\n",
    "rerun = False"
   ]
  },
  {
   "cell_type": "markdown",
   "metadata": {},
   "source": [
    "# Model Parameters"
   ]
  },
  {
   "cell_type": "code",
   "execution_count": 3,
   "metadata": {
    "collapsed": true
   },
   "outputs": [],
   "source": [
    "casing_l = 1000.\n",
    "dsz = -casing_l + 50. \n",
    "freqs = [1e-1, 0.5, 1, 2, 5]"
   ]
  },
  {
   "cell_type": "code",
   "execution_count": 4,
   "metadata": {
    "collapsed": false
   },
   "outputs": [],
   "source": [
    "# Save or load Results\n",
    "cp_file = '{directory}/{cpfile}'.format(directory=directory, cpfile=cpfile)\n",
    "\n",
    "if rerun is True:   \n",
    "    cp = CasingProperties(casing_l=casing_l, dsz=dsz)\n",
    "    cp.freqs = freqs\n",
    "else:   \n",
    "    with open(cp_file, 'r') as outfile:   \n",
    "        cp = CasingProperties.deserialize(json.load(outfile))"
   ]
  },
  {
   "cell_type": "code",
   "execution_count": 5,
   "metadata": {
    "collapsed": false
   },
   "outputs": [],
   "source": [
    "CMesh = CasingMesh(cp)\n",
    "CMesh.npadx2 = CMesh.npadx2 - 3\n",
    "CMesh.npadzu = CMesh.npadzu - 3\n",
    "CMesh.npadzd = CMesh.npadzd - 3\n",
    "mesh = CMesh.mesh"
   ]
  },
  {
   "cell_type": "code",
   "execution_count": 6,
   "metadata": {
    "collapsed": false
   },
   "outputs": [
    {
     "name": "stdout",
     "output_type": "stream",
     "text": [
      "Cyl Mesh Extent xmax: 208853.54563,: zmin: -183013.550756, zmax: 182014.050756\n",
      "2389520\n",
      "[15811.388300841898, 7071.0678118654751, 5000.0, 3535.5339059327375, 2236.0679774997898]\n",
      "[0.67419986246324204, 0.30151134457776363, 0.21320071635561044, 0.15075567228888181, 0.095346258924559224]\n"
     ]
    }
   ],
   "source": [
    "print(\n",
    "    'Cyl Mesh Extent xmax: {},: zmin: {}, zmax: {}'.format(\n",
    "        mesh.vectorCCx.max(),\n",
    "        mesh.vectorCCz.min(),\n",
    "        mesh.vectorCCz.max()\n",
    "    )\n",
    ")\n",
    "\n",
    "print(mesh.nC)\n",
    "print([500./np.sqrt(cp.sigmaback*f) for f in cp.freqs])\n",
    "print([500./np.sqrt(cp.sigmacasing*f) for f in cp.freqs])"
   ]
  },
  {
   "cell_type": "markdown",
   "metadata": {},
   "source": [
    "# plot model"
   ]
  },
  {
   "cell_type": "code",
   "execution_count": 7,
   "metadata": {
    "collapsed": false
   },
   "outputs": [
    {
     "data": {
      "image/png": "[encoded data removed]",
      "text/plain": [
       "<matplotlib.figure.Figure at 0x1046670d0>"
      ]
     },
     "metadata": {},
     "output_type": "display_data"
    }
   ],
   "source": [
    "fig, ax = plt.subplots(1,1)\n",
    "mesh.plotGrid(ax=ax)\n",
    "\n",
    "# fig.savefig('{}/{}'.format(directory, 'CylMesh.png'))"
   ]
  },
  {
   "cell_type": "code",
   "execution_count": 8,
   "metadata": {
    "collapsed": false
   },
   "outputs": [],
   "source": [
    "indActive=mesh.gridCC[:,2] <= 0.\n",
    "casingMap = Maps.ParametrizedCasingAndLayer(mesh, indActive=indActive, slope=1e8)\n",
    "actMap_sigma = Maps.InjectActiveCells(mesh, indActive=indActive, valInactive=np.log(cp.sigmaair))\n",
    "actMap_mu = Maps.InjectActiveCells(mesh, indActive=indActive, valInactive=mu_0)\n",
    "expMap = Maps.ExpMap(mesh)\n",
    "\n",
    "sigmaMap = expMap * actMap_sigma * casingMap\n",
    "muMap = actMap_mu * casingMap"
   ]
  },
  {
   "cell_type": "code",
   "execution_count": null,
   "metadata": {
    "collapsed": false
   },
   "outputs": [],
   "source": [
    "muModelInd = 1\n",
    "\n",
    "sigma_m = np.r_[\n",
    "    np.log(cp.sigmaback), np.log(cp.sigmalayer), np.log(cp.sigmacasing), np.log(cp.sigmainside),\n",
    "    cp.layer_z.mean(), cp.layer_z[1] - cp.layer_z[0], cp.casing_r, cp.casing_t, \n",
    "    cp.casing_z[0], cp.casing_z[1]\n",
    "]\n",
    "\n",
    "mu_m = np.r_[\n",
    "    mu_0, mu_0, cp.muModels[muModelInd]*mu_0, mu_0,\n",
    "    cp.layer_z.mean(), cp.layer_z[1] - cp.layer_z[0], cp.casing_r, cp.casing_t, \n",
    "    cp.casing_z[0], cp.casing_z[1]\n",
    "]"
   ]
  },
  {
   "cell_type": "code",
   "execution_count": null,
   "metadata": {
    "collapsed": false
   },
   "outputs": [],
   "source": [
    "%%time\n",
    "sigma = sigmaMap * sigma_m\n",
    "mu = muMap * mu_m"
   ]
  },
  {
   "cell_type": "code",
   "execution_count": null,
   "metadata": {
    "collapsed": false,
    "scrolled": true
   },
   "outputs": [],
   "source": [
    "fig, ax = plt.subplots(1, 2, figsize=(10,4))\n",
    "ax = plotModels(mesh, sigma, mu, xlim=[0.,1.], zlim=[-2200., 100.], ax=ax)\n",
    "# fig.savefig('{}/{}'.format(directory, 'PhysPropModels'))"
   ]
  },
  {
   "cell_type": "markdown",
   "metadata": {
    "collapsed": false
   },
   "source": [
    "# Set up the Source"
   ]
  },
  {
   "cell_type": "code",
   "execution_count": null,
   "metadata": {
    "collapsed": false
   },
   "outputs": [],
   "source": [
    "# down-holeSource\n",
    "dhSrc = DownHoleCasingSrc(mesh, cp.src_a, cp.src_b, cp.casing_a, cp.freqs)\n",
    "thSrc = TopCasingSource(mesh, np.r_[0.,0.,0], cp.src_b, cp.casing_a, cp.freqs)"
   ]
  },
  {
   "cell_type": "code",
   "execution_count": null,
   "metadata": {
    "collapsed": false
   },
   "outputs": [],
   "source": [
    "# Plot the source to make sure the path is infact\n",
    "# connected\n",
    "\n",
    "fig, ax = plt.subplots(1, 1, figsize=(6, 4))\n",
    "mesh.plotImage(np.log10(sigma), ax=ax)\n",
    "mesh.plotGrid(ax=ax)\n",
    "dhSrc.plotSrc(ax=ax)\n",
    "\n",
    "ax.set_title('downhole casing source on mesh')\n",
    "\n",
    "ax.set_xlim([0, 0.2])\n",
    "ax.set_ylim([-951, -949])\n",
    "\n",
    "# fig.savefig('{}/{}'.format(directory, 'SourceOnMesh.png'))"
   ]
  },
  {
   "cell_type": "markdown",
   "metadata": {},
   "source": [
    "# Problem and Survey"
   ]
  },
  {
   "cell_type": "code",
   "execution_count": null,
   "metadata": {
    "collapsed": false
   },
   "outputs": [],
   "source": [
    "prob = FDEM.Problem3D_h(mesh, sigma=sigma, muMap=muMap)\n",
    "survey = FDEM.Survey(dhSrc.s_e + thSrc.s_e)\n",
    "prob.solver = Solver\n",
    "prob.pair(survey)"
   ]
  },
  {
   "cell_type": "code",
   "execution_count": null,
   "metadata": {
    "collapsed": false
   },
   "outputs": [],
   "source": [
    "def MuCasingModel(mucasing):\n",
    "    return np.r_[\n",
    "        mu_0, mu_0, mucasing*mu_0, mu_0,\n",
    "        cp.layer_z.mean(), cp.layer_z[1] - cp.layer_z[0], cp.casing_r, cp.casing_t, \n",
    "        cp.casing_z[0], cp.casing_z[1]\n",
    "    ]"
   ]
  },
  {
   "cell_type": "code",
   "execution_count": null,
   "metadata": {
    "collapsed": true
   },
   "outputs": [],
   "source": [
    "cp.muModels = [1., 50., 100., 200.]\n",
    "fields = {}"
   ]
  },
  {
   "cell_type": "code",
   "execution_count": null,
   "metadata": {
    "collapsed": false
   },
   "outputs": [],
   "source": [
    "if rerun is True:\n",
    "    # create a file to store results\n",
    "    results = h5py.File(\"{}/{}\".format(directory, resultsfile), \"w\")\n",
    "else:\n",
    "    results = h5py.File(\"{}/{}\".format(directory, resultsfile), \"r\")"
   ]
  },
  {
   "cell_type": "code",
   "execution_count": null,
   "metadata": {
    "collapsed": false
   },
   "outputs": [],
   "source": [
    "results.keys()"
   ]
  },
  {
   "cell_type": "code",
   "execution_count": null,
   "metadata": {
    "collapsed": false
   },
   "outputs": [],
   "source": [
    "%%time\n",
    "for muMod in cp.muModels:\n",
    "    tag = int(muMod)\n",
    "    curMu = MuCasingModel(muMod)\n",
    "\n",
    "    if rerun is True:\n",
    "        print('solving mu = {}mu_0'.format(tag))\n",
    "        fields[tag] = prob.fields(curMu)\n",
    "        dbentry = \"fields_{tag}\".format(tag=tag)\n",
    "        results.create_dataset(dbentry, data=fields[tag][:,'hSolution'])\n",
    "        print('... saved fields_{tag}'.format(tag=tag))\n",
    "        \n",
    "        # Save parameters used to produce these fields\n",
    "        with open(cp_file, 'w') as outfile:\n",
    "            json.dump(cp.serialize(), outfile)\n",
    "\n",
    "    else:\n",
    "        print('loading mu = {}mu_0'.format(tag))\n",
    "        prob.model = curMu\n",
    "        f = prob.fieldsPair(mesh, survey)\n",
    "        f[:, 'hSolution'] = results['fields_{}'.format(tag)].value\n",
    "        fields[tag] = f\n",
    "        print('... loaded mu = {}mu_0'.format(tag))"
   ]
  },
  {
   "cell_type": "code",
   "execution_count": null,
   "metadata": {
    "collapsed": false
   },
   "outputs": [],
   "source": [
    "def vecplot_j(muind, freqind, reim='real', th_bh = 'bh'):\n",
    "    fig, ax = plt.subplots(1,1, figsize=(6,8))\n",
    "    src = survey.getSrcByFreq(survey.freqs[freqind])\n",
    "    src = src[0] if th_bh == 'bh' else src[1]\n",
    "    mur = cp.muModels[muind]\n",
    "    \n",
    "    print('{} Hz, {} mu_0'.format(cp.freqs[freqind], mur))\n",
    "    ax1 = plotCurrentDensity(\n",
    "        mesh, fields[mur][src, 'j'], csx=0.0025, csz=5., \n",
    "        xmax=0.1, zmin=10., zmax=-1500., real_or_imag=reim, mirror=True, ax=ax, fig=fig, saveFig=False\n",
    "    )\n",
    "    return ax1\n",
    "\n",
    "w = widgets.interactive(\n",
    "        vecplot_j, muind=widgets.IntSlider(min=0, max=len(cp.muModels)-1, continuousUpdate=False),\n",
    "        freqind=widgets.IntSlider(min=0, max=len(cp.freqs)-1, continuousUpdate=False),\n",
    "        reim=widgets.ToggleButtons(options=['real', 'imag'], continuousUpdate=False), \n",
    "        th_bh=widgets.ToggleButtons(options=['th', 'bh'], continuousUpdate=False)\n",
    ")\n",
    "w\n",
    "#ax.axis('equal', adjustable='box')"
   ]
  },
  {
   "cell_type": "code",
   "execution_count": null,
   "metadata": {
    "collapsed": false
   },
   "outputs": [],
   "source": [
    "%%time \n",
    "\n",
    "IxCasing, IzCasing = CasingCurrents(cp, fields, mesh, survey) #sigma_m, indActive, casingMap)"
   ]
  },
  {
   "cell_type": "code",
   "execution_count": null,
   "metadata": {
    "collapsed": false
   },
   "outputs": [],
   "source": [
    "def plotMe_freq(\n",
    "    muopt, reim, subtract=None, th=True, bh=True, logScale=True, \n",
    "    ylim_0l=-1., ylim_0u=1., ylim_1l=6e-5, ylim_1u=1e-4\n",
    "):\n",
    "    ylim_0 = [ylim_0l, ylim_0u]\n",
    "    ylim_1 = [ylim_1l, ylim_1u]\n",
    "    \n",
    "    fig, ax = plt.subplots(2,1, figsize=(10,8))\n",
    "    mur = cp.muModels[muopt]\n",
    "    \n",
    "    srcinds = []\n",
    "    if bh is True: \n",
    "        srcinds += [0]\n",
    "    if th is True:\n",
    "        srcinds += [1]\n",
    "    \n",
    "    plot_currents_over_freq(\n",
    "        IxCasing, IzCasing, cp, mesh, mur, subtract=subtract, real_or_imag=reim, \n",
    "        ax=ax, logScale=logScale, srcinds=srcinds, ylim_0=ylim_0, ylim_1=ylim_1\n",
    "    )  \n",
    "    plt.show()\n",
    "\n",
    "w = widgets.interact(\n",
    "    plotMe_freq, \n",
    "    muopt=widgets.IntSlider(min=0., max=len(cp.muModels)-1, continuousUpdate=False), \n",
    "    reim=widgets.ToggleButtons(options=['real', 'imag'], continuousUpdate=False),\n",
    "    subtract=widgets.ToggleButtons(options=[None, 1]),\n",
    "    th=widgets.Checkbox(True),\n",
    "    bh=widgets.Checkbox(True),\n",
    "    logScale=widgets.ToggleButtons(options=[True, False], continuousUpdate=False), \n",
    "    ylim_0l=widgets.FloatText(1e-3, continuousUpdate=False),\n",
    "    ylim_0u=widgets.FloatText(1, continuousUpdate=False),\n",
    "    ylim_1l=widgets.FloatText(6e-5, continuousUpdate=False),\n",
    "    ylim_1u=widgets.FloatText(1e-4, continuousUpdate=False),\n",
    ")\n"
   ]
  },
  {
   "cell_type": "code",
   "execution_count": null,
   "metadata": {
    "collapsed": false
   },
   "outputs": [],
   "source": [
    "def plotMe_mu(\n",
    "    freqopt, reim, subtract=None, th=True, bh=True, logScale=True, \n",
    "    ylim_0l=-1., ylim_0u=1., ylim_1l=6e-5, ylim_1u=1e-4\n",
    "):\n",
    "    ylim_0 = [ylim_0l, ylim_0u]\n",
    "    ylim_1 = [ylim_1l, ylim_1u]\n",
    "#     fig, ax = plt.subplots(2,1, figsize=(10,8))\n",
    "    freq = cp.freqs[freqopt]\n",
    "    srcinds = []\n",
    "    if bh is True: \n",
    "        srcinds += [0]\n",
    "    if th is True:\n",
    "        srcinds += [1]\n",
    "    plot_currents_over_mu(\n",
    "        IxCasing, IzCasing, cp, mesh, freqopt, subtract=subtract, real_or_imag=reim,\n",
    "        logScale=logScale, srcinds=srcinds, ylim_0=ylim_0, ylim_1=ylim_1\n",
    "    )  \n",
    "\n",
    "w = widgets.interact(\n",
    "    plotMe_mu, \n",
    "    freqopt=widgets.IntSlider(min=0., max=len(cp.freqs)-1, continuousUpdate=False), \n",
    "    reim=widgets.ToggleButtons(options=['real', 'imag'], continuousUpdate=False),\n",
    "    subtract=widgets.ToggleButtons(options=[None, 1], continuousUpdate=False),\n",
    "    th=widgets.Checkbox(True),\n",
    "    bh=widgets.Checkbox(True),\n",
    "    logScale=widgets.ToggleButtons(options=[True, False], continuousUpdate=False),\n",
    "    ylim_0l=widgets.FloatText(1e-3, continuousUpdate=False),\n",
    "    ylim_0u=widgets.FloatText(1, continuousUpdate=False),\n",
    "    ylim_1l=widgets.FloatText(6e-5, continuousUpdate=False),\n",
    "    ylim_1u=widgets.FloatText(1e-4, continuousUpdate=False)\n",
    ")\n",
    "\n",
    "w"
   ]
  },
  {
   "cell_type": "code",
   "execution_count": null,
   "metadata": {
    "collapsed": false
   },
   "outputs": [],
   "source": [
    "def plotMe_j_mu_z(\n",
    "    freqopt, reim, r, subtract=None, th=True, bh=True, logScale=True, \n",
    "    ylim_0l=-1., ylim_0u=1., ylim_1l=6e-5, ylim_1u=1e-4\n",
    "):\n",
    "    ylim_0 = [ylim_0l, ylim_0u]\n",
    "    ylim_1 = [ylim_1l, ylim_1u]\n",
    "    fig, ax = plt.subplots(2,1, figsize=(10,8))\n",
    "    freq = cp.freqs[freqopt]\n",
    "    \n",
    "    srcinds = []\n",
    "    if bh is True: \n",
    "        srcinds += [0]\n",
    "    if th is True:\n",
    "        srcinds += [1]\n",
    "        \n",
    "    plot_j_over_mu_z(\n",
    "        cp, fields, mesh, survey, freqopt, subtract=subtract, r=r, srcinds=srcinds,\n",
    "        real_or_imag=reim, ax=ax, ylim_0 = ylim_0, ylim_1 = ylim_1, logScale=logScale\n",
    "    )  \n",
    "#     ax[1].set_ylim([1e-4, 3e-4])\n",
    "\n",
    "widgets.interact(\n",
    "    plotMe_j_mu_z, \n",
    "    freqopt=widgets.IntSlider(min=0., max=len(cp.freqs)-1, continuousUpdate=False), \n",
    "    r=widgets.FloatText(value=1., continuousUpdate=False), \n",
    "    reim=widgets.ToggleButtons(options=['real', 'imag']),\n",
    "    subtract=widgets.ToggleButtons(options=[None, 1]),\n",
    "    th=widgets.Checkbox(True),\n",
    "    bh=widgets.Checkbox(True),\n",
    "    logScale=widgets.ToggleButtons(options=[True, False], continuousUpdate=False),\n",
    "    ylim_0l=widgets.FloatText(1e-9, continuousUpdate=False),\n",
    "    ylim_0u=widgets.FloatText(1e-4, continuousUpdate=False),\n",
    "    ylim_1l=widgets.FloatText(1e-4, continuousUpdate=False),\n",
    "    ylim_1u=widgets.FloatText(3e-4, continuousUpdate=False)\n",
    ")"
   ]
  },
  {
   "cell_type": "code",
   "execution_count": null,
   "metadata": {
    "collapsed": false
   },
   "outputs": [],
   "source": [
    "def plotMe_j_mu_x(\n",
    "    freqopt, reim, z, subtract=None, th=True, bh=True, logScale=True, \n",
    "    ylim_0l=-1., ylim_0u=1., ylim_1l=6e-5, ylim_1u=1e-4\n",
    "):\n",
    "    ylim_0 = None #[ylim_0l, ylim_0u]\n",
    "    ylim_1 = None #[ylim_1l, ylim_1u]\n",
    "    \n",
    "    fig, ax = plt.subplots(2,1, figsize=(10,8))\n",
    "    freq = cp.freqs[freqopt]\n",
    "    srcinds = []\n",
    "    if bh is True: \n",
    "        srcinds += [0]\n",
    "    if th is True:\n",
    "        srcinds += [1]\n",
    "        \n",
    "    plot_j_over_mu_x(\n",
    "        cp, fields, mesh, survey, freqopt, subtract=subtract, z=z, real_or_imag=reim, ax=ax,\n",
    "        srcinds=srcinds, logScale=logScale, ylim_0=ylim_0, ylim_1=ylim_1\n",
    "    )\n",
    "    plt.show()\n",
    "\n",
    "j_over_x = widgets.interactive(\n",
    "    plotMe_j_mu_x, \n",
    "    freqopt=widgets.IntSlider(min=0., max=len(cp.freqs)-1, continuous_update=False), \n",
    "    z=widgets.FloatText(value=-950., continuous_update=False), \n",
    "    subtract=widgets.ToggleButtons(options=[None, 1], continuous_update=False), \n",
    "    reim=widgets.ToggleButtons(options=['real', 'imag'], continuous_update=False),\n",
    "    th=widgets.Checkbox(True),\n",
    "    bh=widgets.Checkbox(True),\n",
    "    logScale=widgets.ToggleButtons(options=[True, False]),\n",
    "    ylim_0l=widgets.FloatText(1e-9),\n",
    "    ylim_0u=widgets.FloatText(1e-4),\n",
    "    ylim_1l=widgets.FloatText(1e-4),\n",
    "    ylim_1u=widgets.FloatText(3e-4)\n",
    ")\n",
    "j_over_x"
   ]
  },
  {
   "cell_type": "code",
   "execution_count": null,
   "metadata": {
    "collapsed": true
   },
   "outputs": [],
   "source": []
  },
  {
   "cell_type": "code",
   "execution_count": null,
   "metadata": {
    "collapsed": true
   },
   "outputs": [],
   "source": []
  }
 ],
 "metadata": {
  "anaconda-cloud": {},
  "kernelspec": {
   "display_name": "Python [default]",
   "language": "python",
   "name": "python2"
  },
  "language_info": {
   "codemirror_mode": {
    "name": "ipython",
    "version": 2
   },
   "file_extension": ".py",
   "mimetype": "text/x-python",
   "name": "python",
   "nbconvert_exporter": "python",
   "pygments_lexer": "ipython2",
   "version": "2.7.12"
  }
 },
 "nbformat": 4,
 "nbformat_minor": 1
}
